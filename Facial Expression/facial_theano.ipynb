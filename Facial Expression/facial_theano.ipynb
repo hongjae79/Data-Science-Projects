{
 "cells": [
  {
   "cell_type": "code",
   "execution_count": 370,
   "metadata": {},
   "outputs": [],
   "source": [
    "import numpy as np\n",
    "import theano\n",
    "import theano.tensor as th\n",
    "import matplotlib.pyplot as plt\n",
    "\n",
    "from theano.tensor.nnet import conv2d\n",
    "from theano.tensor.signal import pool\n",
    "\n",
    "from scipy.io import loadmat\n",
    "from sklearn.utils import shuffle\n",
    "\n",
    "from datetime import datetime"
   ]
  },
  {
   "cell_type": "code",
   "execution_count": 371,
   "metadata": {},
   "outputs": [],
   "source": [
    "df = pd.read_csv('./fer2013.csv')"
   ]
  },
  {
   "cell_type": "code",
   "execution_count": 372,
   "metadata": {},
   "outputs": [],
   "source": [
    "df_training = df[df.Usage == 'Training']\n",
    "df_public_testing = df[df.Usage == 'PublicTest']\n",
    "df_private_testing = df[df.Usage == 'PrivateTest']"
   ]
  },
  {
   "cell_type": "code",
   "execution_count": 373,
   "metadata": {},
   "outputs": [
    {
     "data": {
      "text/plain": [
       "array(['Training', 'PublicTest', 'PrivateTest'], dtype=object)"
      ]
     },
     "execution_count": 373,
     "metadata": {},
     "output_type": "execute_result"
    }
   ],
   "source": [
    "df.Usage.unique()"
   ]
  },
  {
   "cell_type": "code",
   "execution_count": 374,
   "metadata": {},
   "outputs": [
    {
     "data": {
      "text/plain": [
       "(28709, 3)"
      ]
     },
     "execution_count": 374,
     "metadata": {},
     "output_type": "execute_result"
    }
   ],
   "source": [
    "df_training.shape"
   ]
  },
  {
   "cell_type": "code",
   "execution_count": 375,
   "metadata": {},
   "outputs": [
    {
     "data": {
      "text/plain": [
       "(3589, 3)"
      ]
     },
     "execution_count": 375,
     "metadata": {},
     "output_type": "execute_result"
    }
   ],
   "source": [
    "df_public_testing.shape"
   ]
  },
  {
   "cell_type": "code",
   "execution_count": 376,
   "metadata": {},
   "outputs": [
    {
     "data": {
      "text/plain": [
       "(3589, 3)"
      ]
     },
     "execution_count": 376,
     "metadata": {},
     "output_type": "execute_result"
    }
   ],
   "source": [
    "df_private_testing.shape"
   ]
  },
  {
   "cell_type": "code",
   "execution_count": 377,
   "metadata": {},
   "outputs": [],
   "source": [
    "X = []\n",
    "\n",
    "for i in range(len(df)):\n",
    "    l = df.pixels[i]\n",
    "    ls = l.split()\n",
    "\n",
    "    for i in range(len(ls)):\n",
    "        ls[i] = float(ls[i])\n",
    "    x = np.reshape(ls, (48, 48))\n",
    "    X.append(x)"
   ]
  },
  {
   "cell_type": "code",
   "execution_count": 378,
   "metadata": {},
   "outputs": [],
   "source": [
    "X = np.asarray(X)"
   ]
  },
  {
   "cell_type": "code",
   "execution_count": 379,
   "metadata": {},
   "outputs": [
    {
     "data": {
      "text/plain": [
       "(35887, 48, 48)"
      ]
     },
     "execution_count": 379,
     "metadata": {},
     "output_type": "execute_result"
    }
   ],
   "source": [
    "X.shape"
   ]
  },
  {
   "cell_type": "code",
   "execution_count": 380,
   "metadata": {},
   "outputs": [],
   "source": [
    "Xtrain = X[ : df_training.shape[0]]\n",
    "Xpublic_test = X[df_training.shape[0]:df_training.shape[0] + df_public_testing.shape[0]]\n",
    "Xprivate_test = X[df_training.shape[0] + df_public_testing.shape[0]: ]"
   ]
  },
  {
   "cell_type": "code",
   "execution_count": 381,
   "metadata": {},
   "outputs": [],
   "source": [
    "assert len(Xtrain) + len(Xpublic_test) + len(Xprivate_test) == len(X)"
   ]
  },
  {
   "cell_type": "code",
   "execution_count": 382,
   "metadata": {},
   "outputs": [
    {
     "data": {
      "text/html": [
       "<div>\n",
       "<style scoped>\n",
       "    .dataframe tbody tr th:only-of-type {\n",
       "        vertical-align: middle;\n",
       "    }\n",
       "\n",
       "    .dataframe tbody tr th {\n",
       "        vertical-align: top;\n",
       "    }\n",
       "\n",
       "    .dataframe thead th {\n",
       "        text-align: right;\n",
       "    }\n",
       "</style>\n",
       "<table border=\"1\" class=\"dataframe\">\n",
       "  <thead>\n",
       "    <tr style=\"text-align: right;\">\n",
       "      <th></th>\n",
       "      <th>emotion</th>\n",
       "      <th>pixels</th>\n",
       "      <th>Usage</th>\n",
       "    </tr>\n",
       "  </thead>\n",
       "  <tbody>\n",
       "    <tr>\n",
       "      <th>0</th>\n",
       "      <td>0</td>\n",
       "      <td>70 80 82 72 58 58 60 63 54 58 60 48 89 115 121...</td>\n",
       "      <td>Training</td>\n",
       "    </tr>\n",
       "    <tr>\n",
       "      <th>1</th>\n",
       "      <td>0</td>\n",
       "      <td>151 150 147 155 148 133 111 140 170 174 182 15...</td>\n",
       "      <td>Training</td>\n",
       "    </tr>\n",
       "    <tr>\n",
       "      <th>2</th>\n",
       "      <td>2</td>\n",
       "      <td>231 212 156 164 174 138 161 173 182 200 106 38...</td>\n",
       "      <td>Training</td>\n",
       "    </tr>\n",
       "    <tr>\n",
       "      <th>3</th>\n",
       "      <td>4</td>\n",
       "      <td>24 32 36 30 32 23 19 20 30 41 21 22 32 34 21 1...</td>\n",
       "      <td>Training</td>\n",
       "    </tr>\n",
       "    <tr>\n",
       "      <th>4</th>\n",
       "      <td>6</td>\n",
       "      <td>4 0 0 0 0 0 0 0 0 0 0 0 3 15 23 28 48 50 58 84...</td>\n",
       "      <td>Training</td>\n",
       "    </tr>\n",
       "  </tbody>\n",
       "</table>\n",
       "</div>"
      ],
      "text/plain": [
       "   emotion                                             pixels     Usage\n",
       "0        0  70 80 82 72 58 58 60 63 54 58 60 48 89 115 121...  Training\n",
       "1        0  151 150 147 155 148 133 111 140 170 174 182 15...  Training\n",
       "2        2  231 212 156 164 174 138 161 173 182 200 106 38...  Training\n",
       "3        4  24 32 36 30 32 23 19 20 30 41 21 22 32 34 21 1...  Training\n",
       "4        6  4 0 0 0 0 0 0 0 0 0 0 0 3 15 23 28 48 50 58 84...  Training"
      ]
     },
     "execution_count": 382,
     "metadata": {},
     "output_type": "execute_result"
    }
   ],
   "source": [
    "df.head()"
   ]
  },
  {
   "cell_type": "code",
   "execution_count": 383,
   "metadata": {},
   "outputs": [
    {
     "name": "stderr",
     "output_type": "stream",
     "text": [
      "C:\\Users\\hongj\\Anaconda2\\envs\\Tensorflow\\lib\\site-packages\\ipykernel_launcher.py:1: FutureWarning: Method .as_matrix will be removed in a future version. Use .values instead.\n",
      "  \"\"\"Entry point for launching an IPython kernel.\n"
     ]
    }
   ],
   "source": [
    "Y = df.emotion.as_matrix()"
   ]
  },
  {
   "cell_type": "code",
   "execution_count": 384,
   "metadata": {},
   "outputs": [],
   "source": [
    "Ytrain = Y[ : df_training.shape[0]] \n",
    "Ypublic_test = Y[df_training.shape[0]:df_training.shape[0] + df_public_testing.shape[0]] \n",
    "Yprivate_test = Y[df_training.shape[0] + df_public_testing.shape[0]: ] "
   ]
  },
  {
   "cell_type": "code",
   "execution_count": 385,
   "metadata": {},
   "outputs": [
    {
     "data": {
      "text/plain": [
       "array([0, 0, 2, ..., 4, 0, 4], dtype=int64)"
      ]
     },
     "execution_count": 385,
     "metadata": {},
     "output_type": "execute_result"
    }
   ],
   "source": [
    "Ytrain"
   ]
  },
  {
   "cell_type": "code",
   "execution_count": 386,
   "metadata": {},
   "outputs": [],
   "source": [
    "Ytrain = Ytrain.astype(int)\n",
    "Ypublic_test = Ypublic_test.astype(int)\n",
    "Yprivate_test = Yprivate_test.astype(int)"
   ]
  },
  {
   "cell_type": "code",
   "execution_count": 387,
   "metadata": {},
   "outputs": [
    {
     "data": {
      "text/plain": [
       "numpy.int32"
      ]
     },
     "execution_count": 387,
     "metadata": {},
     "output_type": "execute_result"
    }
   ],
   "source": [
    "type(Ytrain[0])"
   ]
  },
  {
   "cell_type": "code",
   "execution_count": 388,
   "metadata": {},
   "outputs": [],
   "source": [
    "assert len(Ytrain) + len(Ypublic_test) + len(Yprivate_test) == len(Y)"
   ]
  },
  {
   "cell_type": "code",
   "execution_count": 389,
   "metadata": {},
   "outputs": [],
   "source": [
    "label_map = ['Anger', 'Disgust', 'Fear', 'Happy', 'Sad', 'Surprise', 'Neutral']"
   ]
  },
  {
   "cell_type": "code",
   "execution_count": 390,
   "metadata": {},
   "outputs": [],
   "source": [
    "def emotion_indicator(number):\n",
    "    return label_map[number]"
   ]
  },
  {
   "cell_type": "code",
   "execution_count": 391,
   "metadata": {},
   "outputs": [
    {
     "data": {
      "image/png": "[encoded data removed]",
      "text/plain": [
       "<Figure size 432x288 with 1 Axes>"
      ]
     },
     "metadata": {
      "needs_background": "light"
     },
     "output_type": "display_data"
    }
   ],
   "source": [
    "k = 123\n",
    "\n",
    "plt.imshow(Xtrain[k], cmap = 'gray')\n",
    "plt.title(emotion_indicator(Ytrain[k]))\n",
    "plt.show()"
   ]
  },
  {
   "cell_type": "code",
   "execution_count": 392,
   "metadata": {},
   "outputs": [],
   "source": [
    "def reshape(data):\n",
    "    l = []\n",
    "\n",
    "    for i in range(len(data)):\n",
    "        l.append([data[i]])\n",
    "\n",
    "    data = np.asarray(l)\n",
    "    return (data/255.0).astype(np.float32)"
   ]
  },
  {
   "cell_type": "code",
   "execution_count": 393,
   "metadata": {},
   "outputs": [],
   "source": [
    "Xtrain = reshape(Xtrain)\n",
    "Xpublic_test = reshape(Xpublic_test)\n",
    "Xprivate_test = reshape(Xprivate_test)"
   ]
  },
  {
   "cell_type": "code",
   "execution_count": 394,
   "metadata": {},
   "outputs": [
    {
     "data": {
      "text/plain": [
       "1"
      ]
     },
     "execution_count": 394,
     "metadata": {},
     "output_type": "execute_result"
    }
   ],
   "source": [
    "Xtrain.shape[1]"
   ]
  },
  {
   "cell_type": "code",
   "execution_count": 414,
   "metadata": {},
   "outputs": [],
   "source": [
    "max_iter = 12\n",
    "print_period = 30\n",
    "\n",
    "lr = np.float32(1e-2)\n",
    "mu = np.float32(0.99)\n",
    "\n",
    "N = Xtrain.shape[0]\n",
    "batch_sz = 500\n",
    "n_batches = N // batch_sz\n",
    "\n",
    "M = 500\n",
    "K = 7\n",
    "poolsz = (2, 2)"
   ]
  },
  {
   "cell_type": "code",
   "execution_count": 415,
   "metadata": {},
   "outputs": [],
   "source": [
    "def init_filter(shape, poolsz):\n",
    "    # w = np.random.randn(*shape) / np.sqrt(np.prod(shape[1:]) + shape[0]*np.prod(shape[2:]) / np.prod(poolsz))\n",
    "    w = np.random.randn(*shape) * np.sqrt(2.0 / np.prod(shape[1:]))\n",
    "    return w.astype(np.float32)"
   ]
  },
  {
   "cell_type": "code",
   "execution_count": 416,
   "metadata": {},
   "outputs": [],
   "source": [
    "W1_shape = (20, Xtrain.shape[1], 5, 5) # (num_feature_maps, num_color_channels, filter_width, filter_height)\n",
    "W1_init = init_filter(W1_shape, poolsz)\n",
    "b1_init = np.zeros(W1_shape[0], dtype=np.float32) # one bias per output feature map"
   ]
  },
  {
   "cell_type": "code",
   "execution_count": 417,
   "metadata": {},
   "outputs": [],
   "source": [
    "# after conv will be of dimension \n",
    "# after downsample 10 / 2 = 5\n",
    "W2_shape = (50, W1_shape[0], 5, 5) # (num_feature_maps, old_num_feature_maps, filter_width, filter_height)\n",
    "W2_init = init_filter(W2_shape, poolsz)\n",
    "b2_init = np.zeros(W2_shape[0], dtype=np.float32)"
   ]
  },
  {
   "cell_type": "code",
   "execution_count": 418,
   "metadata": {},
   "outputs": [
    {
     "name": "stdout",
     "output_type": "stream",
     "text": [
      "9\n"
     ]
    }
   ],
   "source": [
    "#valid mode\n",
    "\n",
    "ac1 = (Xtrain.shape[2] - W1_shape[2] + 1) \n",
    "ap1 = ac1 / poolsz[0]\n",
    "ac2 = ( ap1 - W2_shape[2] + 1 )\n",
    "ap2 = ac2 / poolsz[0]\n",
    "ap2 = int(ap2)\n",
    "print(ap2)"
   ]
  },
  {
   "cell_type": "code",
   "execution_count": 419,
   "metadata": {},
   "outputs": [
    {
     "data": {
      "text/plain": [
       "int"
      ]
     },
     "execution_count": 419,
     "metadata": {},
     "output_type": "execute_result"
    }
   ],
   "source": [
    "type(ap2)"
   ]
  },
  {
   "cell_type": "code",
   "execution_count": 420,
   "metadata": {},
   "outputs": [],
   "source": [
    "# vanilla ANN weights\n",
    "W3_init = np.random.randn(W2_shape[0]*ap2*ap2, M) / np.sqrt(W2_shape[0]*ap2*ap2 + M)\n",
    "b3_init = np.zeros(M, dtype=np.float32)\n",
    "W4_init = np.random.randn(M, K) / np.sqrt(M + K)\n",
    "b4_init = np.zeros(K, dtype=np.float32)"
   ]
  },
  {
   "cell_type": "code",
   "execution_count": 421,
   "metadata": {},
   "outputs": [],
   "source": [
    "# step 2: define theano variables and expressions\n",
    "X = th.tensor4('X', dtype='float32') #Return a Variable for a 4-dimensional ndarray \n",
    "Y = th.ivector('T')\n",
    "W1 = theano.shared(W1_init, 'W1')\n",
    "b1 = theano.shared(b1_init, 'b1')\n",
    "W2 = theano.shared(W2_init, 'W2')\n",
    "b2 = theano.shared(b2_init, 'b2')\n",
    "W3 = theano.shared(W3_init.astype(np.float32), 'W3')\n",
    "b3 = theano.shared(b3_init, 'b3')\n",
    "W4 = theano.shared(W4_init.astype(np.float32), 'W4')\n",
    "b4 = theano.shared(b4_init, 'b4')"
   ]
  },
  {
   "cell_type": "code",
   "execution_count": 422,
   "metadata": {},
   "outputs": [],
   "source": [
    "def relu(a):\n",
    "    return a * (a > 0)"
   ]
  },
  {
   "cell_type": "code",
   "execution_count": 423,
   "metadata": {},
   "outputs": [],
   "source": [
    "def convpool(X, W, b, poolsize=(2, 2)):\n",
    "    conv_out = conv2d(input=X, filters=W)\n",
    "\n",
    "    # downsample each feature map individually, using maxpooling\n",
    "    pooled_out = pool.pool_2d(\n",
    "        input=conv_out,\n",
    "        ws=poolsize,\n",
    "        ignore_border=True\n",
    "    )\n",
    "\n",
    "    # add the bias term. Since the bias is a vector (1D array), we first\n",
    "    # reshape it to a tensor of shape (1, n_filters, 1, 1). Each bias will\n",
    "    # thus be broadcasted across mini-batches and feature map\n",
    "    # width & height\n",
    "    # return T.tanh(pooled_out + b.dimshuffle('x', 0, 'x', 'x'))\n",
    "    return relu(pooled_out + b.dimshuffle('x', 0, 'x', 'x'))\n"
   ]
  },
  {
   "cell_type": "code",
   "execution_count": 424,
   "metadata": {},
   "outputs": [],
   "source": [
    "# forward pass\n",
    "Z1 = convpool(X, W1, b1)\n",
    "Z2 = convpool(Z1, W2, b2)\n",
    "Z3 = relu(Z2.flatten(ndim=2).dot(W3) + b3)\n",
    "pY = th.nnet.softmax( Z3.dot(W4) + b4)"
   ]
  },
  {
   "cell_type": "code",
   "execution_count": 425,
   "metadata": {},
   "outputs": [],
   "source": [
    "# define the cost function and prediction\n",
    "cost = -(th.log(pY[th.arange(Y.shape[0]), Y])).mean()\n",
    "prediction = th.argmax(pY, axis=1)"
   ]
  },
  {
   "cell_type": "code",
   "execution_count": 426,
   "metadata": {},
   "outputs": [],
   "source": [
    "# step 3: training expressions and functions\n",
    "params = [W1, b1, W2, b2, W3, b3, W4, b4]"
   ]
  },
  {
   "cell_type": "code",
   "execution_count": 427,
   "metadata": {},
   "outputs": [],
   "source": [
    "# momentum changes\n",
    "dparams = [\n",
    "    theano.shared(\n",
    "        np.zeros_like(\n",
    "            p.get_value(),\n",
    "            dtype=np.float32\n",
    "        )\n",
    "    ) for p in params\n",
    "]"
   ]
  },
  {
   "cell_type": "code",
   "execution_count": 428,
   "metadata": {},
   "outputs": [],
   "source": [
    "updates = []\n",
    "grads = th.grad(cost, params)\n",
    "for p, dp, g in zip(params, dparams, grads):\n",
    "    dp_update = mu*dp - lr*g\n",
    "    p_update = p + dp_update\n",
    "\n",
    "    updates.append((dp, dp_update))\n",
    "    updates.append((p, p_update))"
   ]
  },
  {
   "cell_type": "code",
   "execution_count": 429,
   "metadata": {},
   "outputs": [],
   "source": [
    "train = theano.function(\n",
    "        inputs=[X, Y],\n",
    "        updates=updates,\n",
    "    )"
   ]
  },
  {
   "cell_type": "code",
   "execution_count": 430,
   "metadata": {},
   "outputs": [],
   "source": [
    "# create another function for this because we want it over the whole dataset\n",
    "get_prediction = theano.function(\n",
    "    inputs=[X, Y],\n",
    "    outputs=[cost, prediction],\n",
    ")"
   ]
  },
  {
   "cell_type": "code",
   "execution_count": 431,
   "metadata": {},
   "outputs": [],
   "source": [
    "def error_rate(p, t):\n",
    "    return np.mean(p != t)"
   ]
  },
  {
   "cell_type": "code",
   "execution_count": 432,
   "metadata": {},
   "outputs": [
    {
     "name": "stdout",
     "output_type": "stream",
     "text": [
      "Cost / err at iteration i=0, j=0: 1.903 / 0.751\n",
      "Cost / err at iteration i=0, j=30: 1.815 / 0.750\n",
      "Cost / err at iteration i=1, j=0: 1.758 / 0.711\n",
      "Cost / err at iteration i=1, j=30: 1.664 / 0.643\n",
      "Cost / err at iteration i=2, j=0: 1.642 / 0.629\n",
      "Cost / err at iteration i=2, j=30: 1.570 / 0.597\n",
      "Cost / err at iteration i=3, j=0: 1.523 / 0.581\n",
      "Cost / err at iteration i=3, j=30: 1.502 / 0.572\n",
      "Cost / err at iteration i=4, j=0: 1.484 / 0.571\n",
      "Cost / err at iteration i=4, j=30: 1.438 / 0.549\n",
      "Cost / err at iteration i=5, j=0: 1.425 / 0.547\n",
      "Cost / err at iteration i=5, j=30: 1.398 / 0.534\n",
      "Cost / err at iteration i=6, j=0: 1.356 / 0.514\n",
      "Cost / err at iteration i=6, j=30: 1.335 / 0.507\n",
      "Cost / err at iteration i=7, j=0: 1.359 / 0.510\n",
      "Cost / err at iteration i=7, j=30: 1.338 / 0.512\n",
      "Cost / err at iteration i=8, j=0: 1.301 / 0.488\n",
      "Cost / err at iteration i=8, j=30: 1.329 / 0.496\n",
      "Cost / err at iteration i=9, j=0: 1.328 / 0.487\n",
      "Cost / err at iteration i=9, j=30: 1.308 / 0.483\n",
      "Cost / err at iteration i=10, j=0: 1.318 / 0.470\n",
      "Cost / err at iteration i=10, j=30: 1.317 / 0.466\n",
      "Cost / err at iteration i=11, j=0: 1.362 / 0.471\n",
      "Cost / err at iteration i=11, j=30: 1.427 / 0.464\n",
      "Elapsed time: 0:24:20.403358\n"
     ]
    },
    {
     "data": {
      "image/png": "[encoded data removed]",
      "text/plain": [
       "<Figure size 432x288 with 1 Axes>"
      ]
     },
     "metadata": {
      "needs_background": "light"
     },
     "output_type": "display_data"
    }
   ],
   "source": [
    "t0 = datetime.now()\n",
    "costs = []\n",
    "for i in range(max_iter):\n",
    "    Xtrain, Ytrain = shuffle(Xtrain, Ytrain)\n",
    "    for j in range(n_batches):\n",
    "        Xbatch = Xtrain[j*batch_sz:(j*batch_sz + batch_sz),]\n",
    "        Ybatch = Ytrain[j*batch_sz:(j*batch_sz + batch_sz),]\n",
    "\n",
    "        train(Xbatch, Ybatch)\n",
    "        if j % print_period == 0:\n",
    "            cost_val, prediction_val = get_prediction(Xpublic_test, Ypublic_test)\n",
    "            err = error_rate(prediction_val, Ypublic_test)\n",
    "            print(\"Cost / err at iteration i=%d, j=%d: %.3f / %.3f\" % (i, j, cost_val, err))\n",
    "            costs.append(cost_val)\n",
    "print(\"Elapsed time:\", (datetime.now() - t0))\n",
    "plt.plot(costs)\n",
    "plt.show()"
   ]
  },
  {
   "cell_type": "code",
   "execution_count": null,
   "metadata": {},
   "outputs": [],
   "source": []
  }
 ],
 "metadata": {
  "kernelspec": {
   "display_name": "Python 3",
   "language": "python",
   "name": "python3"
  },
  "language_info": {
   "codemirror_mode": {
    "name": "ipython",
    "version": 3
   },
   "file_extension": ".py",
   "mimetype": "text/x-python",
   "name": "python",
   "nbconvert_exporter": "python",
   "pygments_lexer": "ipython3",
   "version": "3.8.5"
  }
 },
 "nbformat": 4,
 "nbformat_minor": 2
}
