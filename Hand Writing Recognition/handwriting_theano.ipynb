{
 "cells": [
  {
   "cell_type": "code",
   "execution_count": 3,
   "metadata": {},
   "outputs": [],
   "source": [
    "import numpy as np\n",
    "import pandas as pd\n",
    "import theano\n",
    "import theano.tensor as th\n",
    "import matplotlib.pyplot as plt\n",
    "\n",
    "from theano.tensor.nnet import conv2d\n",
    "from theano.tensor.signal import pool\n",
    "\n",
    "from scipy.io import loadmat\n",
    "from sklearn.utils import shuffle\n",
    "\n",
    "from datetime import datetime"
   ]
  },
  {
   "cell_type": "code",
   "execution_count": 93,
   "metadata": {},
   "outputs": [],
   "source": [
    "train = pd.read_csv(\"../Hand writing recognition/train.csv\")\n",
    "test = pd.read_csv(\"../Hand writing recognition/test.csv\")"
   ]
  },
  {
   "cell_type": "code",
   "execution_count": 94,
   "metadata": {},
   "outputs": [
    {
     "data": {
      "text/plain": [
       "42000"
      ]
     },
     "execution_count": 94,
     "metadata": {},
     "output_type": "execute_result"
    }
   ],
   "source": [
    "len(train)"
   ]
  },
  {
   "cell_type": "code",
   "execution_count": 95,
   "metadata": {},
   "outputs": [],
   "source": [
    "train_images =train.iloc[0:42000,1:]\n",
    "train_labels = train.iloc[0:42000,:1]\n",
    "test_images = test"
   ]
  },
  {
   "cell_type": "code",
   "execution_count": 96,
   "metadata": {},
   "outputs": [
    {
     "name": "stderr",
     "output_type": "stream",
     "text": [
      "C:\\Users\\hongj\\Anaconda2\\envs\\Tensorflow\\lib\\site-packages\\ipykernel_launcher.py:1: FutureWarning: Method .as_matrix will be removed in a future version. Use .values instead.\n",
      "  \"\"\"Entry point for launching an IPython kernel.\n"
     ]
    }
   ],
   "source": [
    "train_images_to_array = train_images.as_matrix(columns=None).astype(np.float)\n",
    "train_labels_to_array = np.array(train_labels['label'].tolist())"
   ]
  },
  {
   "cell_type": "code",
   "execution_count": 97,
   "metadata": {},
   "outputs": [
    {
     "data": {
      "text/plain": [
       "28.0"
      ]
     },
     "execution_count": 97,
     "metadata": {},
     "output_type": "execute_result"
    }
   ],
   "source": [
    "np.sqrt(train_images_to_array.shape[1])"
   ]
  },
  {
   "cell_type": "code",
   "execution_count": 98,
   "metadata": {},
   "outputs": [],
   "source": [
    "X = []\n",
    "\n",
    "for i in range(len(train_images_to_array)):\n",
    "    x = np.reshape(train_images_to_array[i], (28, 28))\n",
    "    X.append(x)"
   ]
  },
  {
   "cell_type": "code",
   "execution_count": 99,
   "metadata": {},
   "outputs": [],
   "source": [
    "X = np.asarray(X)"
   ]
  },
  {
   "cell_type": "code",
   "execution_count": 100,
   "metadata": {},
   "outputs": [
    {
     "data": {
      "text/plain": [
       "(42000, 28, 28)"
      ]
     },
     "execution_count": 100,
     "metadata": {},
     "output_type": "execute_result"
    }
   ],
   "source": [
    "X.shape"
   ]
  },
  {
   "cell_type": "code",
   "execution_count": 101,
   "metadata": {},
   "outputs": [],
   "source": [
    "def reshape(data):\n",
    "    l = []\n",
    "\n",
    "    for i in range(len(data)):\n",
    "        l.append([data[i]])\n",
    "\n",
    "    data = np.asarray(l)\n",
    "    return (data/255.0).astype(np.float32)"
   ]
  },
  {
   "cell_type": "code",
   "execution_count": 102,
   "metadata": {},
   "outputs": [],
   "source": [
    "X = reshape(X)"
   ]
  },
  {
   "cell_type": "code",
   "execution_count": 103,
   "metadata": {},
   "outputs": [
    {
     "data": {
      "text/plain": [
       "(42000, 1, 28, 28)"
      ]
     },
     "execution_count": 103,
     "metadata": {},
     "output_type": "execute_result"
    }
   ],
   "source": [
    "X.shape"
   ]
  },
  {
   "cell_type": "code",
   "execution_count": 104,
   "metadata": {},
   "outputs": [
    {
     "name": "stderr",
     "output_type": "stream",
     "text": [
      "C:\\Users\\hongj\\Anaconda2\\envs\\Tensorflow\\lib\\site-packages\\ipykernel_launcher.py:1: FutureWarning: Method .as_matrix will be removed in a future version. Use .values instead.\n",
      "  \"\"\"Entry point for launching an IPython kernel.\n"
     ]
    }
   ],
   "source": [
    "Y = train_labels.label.as_matrix()"
   ]
  },
  {
   "cell_type": "code",
   "execution_count": 105,
   "metadata": {},
   "outputs": [],
   "source": [
    "Y = Y.astype(int)"
   ]
  },
  {
   "cell_type": "code",
   "execution_count": 106,
   "metadata": {},
   "outputs": [],
   "source": [
    "from sklearn.model_selection import train_test_split\n",
    "\n",
    "Xtrain, Xtest, Ytrain, Ytest = train_test_split( X, Y,\n",
    "                                                    test_size=0.2, random_state=42)"
   ]
  },
  {
   "cell_type": "code",
   "execution_count": 107,
   "metadata": {},
   "outputs": [
    {
     "data": {
      "text/plain": [
       "numpy.int32"
      ]
     },
     "execution_count": 107,
     "metadata": {},
     "output_type": "execute_result"
    }
   ],
   "source": [
    "type(Y[0])"
   ]
  },
  {
   "cell_type": "code",
   "execution_count": 128,
   "metadata": {},
   "outputs": [],
   "source": [
    "max_iter = 6\n",
    "print_period = 10\n",
    "\n",
    "lr = np.float32(1e-3)\n",
    "mu = np.float32(0.99)\n",
    "\n",
    "N = Xtrain.shape[0]\n",
    "batch_sz = 500\n",
    "n_batches = N // batch_sz\n",
    "\n",
    "M = 500\n",
    "K = 10\n",
    "poolsz = (2, 2)"
   ]
  },
  {
   "cell_type": "code",
   "execution_count": 129,
   "metadata": {},
   "outputs": [],
   "source": [
    "def init_filter(shape, poolsz):\n",
    "    # w = np.random.randn(*shape) / np.sqrt(np.prod(shape[1:]) + shape[0]*np.prod(shape[2:]) / np.prod(poolsz))\n",
    "    w = np.random.randn(*shape) * np.sqrt(2.0 / np.prod(shape[1:]))\n",
    "    return w.astype(np.float32)"
   ]
  },
  {
   "cell_type": "code",
   "execution_count": 130,
   "metadata": {},
   "outputs": [],
   "source": [
    "W1_shape = (20, Xtrain.shape[1], 3, 3) # (num_feature_maps, num_color_channels, filter_width, filter_height)\n",
    "W1_init = init_filter(W1_shape, poolsz)\n",
    "b1_init = np.zeros(W1_shape[0], dtype=np.float32) # one bias per output feature map"
   ]
  },
  {
   "cell_type": "code",
   "execution_count": 131,
   "metadata": {},
   "outputs": [],
   "source": [
    "# after conv will be of dimension \n",
    "# after downsample 10 / 2 = 5\n",
    "W2_shape = (50, W1_shape[0], 3, 3) # (num_feature_maps, old_num_feature_maps, filter_width, filter_height)\n",
    "W2_init = init_filter(W2_shape, poolsz)\n",
    "b2_init = np.zeros(W2_shape[0], dtype=np.float32)"
   ]
  },
  {
   "cell_type": "code",
   "execution_count": 132,
   "metadata": {},
   "outputs": [
    {
     "name": "stdout",
     "output_type": "stream",
     "text": [
      "5\n"
     ]
    }
   ],
   "source": [
    "ac1 = (Xtrain.shape[2] - W1_shape[2] + 1) \n",
    "ap1 = ac1 / poolsz[0]\n",
    "ac2 = ( ap1 - W2_shape[2] + 1 )\n",
    "ap2 = ac2 / 2\n",
    "ap2 = int(ap2)\n",
    "print(ap2)"
   ]
  },
  {
   "cell_type": "code",
   "execution_count": 133,
   "metadata": {},
   "outputs": [],
   "source": [
    "# vanilla ANN weights\n",
    "W3_init = np.random.randn(W2_shape[0]*ap2*ap2, M) / np.sqrt(W2_shape[0]*ap2*ap2 + M)\n",
    "b3_init = np.zeros(M, dtype=np.float32)\n",
    "W4_init = np.random.randn(M, K) / np.sqrt(M + K)\n",
    "b4_init = np.zeros(K, dtype=np.float32)"
   ]
  },
  {
   "cell_type": "code",
   "execution_count": 134,
   "metadata": {},
   "outputs": [],
   "source": [
    "# step 2: define theano variables and expressions\n",
    "X = th.tensor4('X', dtype='float32') #Return a Variable for a 4-dimensional ndarray \n",
    "Y = th.ivector('T')\n",
    "W1 = theano.shared(W1_init, 'W1')\n",
    "b1 = theano.shared(b1_init, 'b1')\n",
    "W2 = theano.shared(W2_init, 'W2')\n",
    "b2 = theano.shared(b2_init, 'b2')\n",
    "W3 = theano.shared(W3_init.astype(np.float32), 'W3')\n",
    "b3 = theano.shared(b3_init, 'b3')\n",
    "W4 = theano.shared(W4_init.astype(np.float32), 'W4')\n",
    "b4 = theano.shared(b4_init, 'b4')"
   ]
  },
  {
   "cell_type": "code",
   "execution_count": 135,
   "metadata": {},
   "outputs": [],
   "source": [
    "def relu(a):\n",
    "    return a * (a > 0)"
   ]
  },
  {
   "cell_type": "code",
   "execution_count": 136,
   "metadata": {},
   "outputs": [],
   "source": [
    "def convpool(X, W, b, poolsize=(2, 2)):\n",
    "    conv_out = conv2d(input=X, filters=W)\n",
    "\n",
    "    # downsample each feature map individually, using maxpooling\n",
    "    pooled_out = pool.pool_2d(\n",
    "        input=conv_out,\n",
    "        ws=poolsize,\n",
    "        ignore_border=True\n",
    "    )\n",
    "\n",
    "    # add the bias term. Since the bias is a vector (1D array), we first\n",
    "    # reshape it to a tensor of shape (1, n_filters, 1, 1). Each bias will\n",
    "    # thus be broadcasted across mini-batches and feature map\n",
    "    # width & height\n",
    "    # return T.tanh(pooled_out + b.dimshuffle('x', 0, 'x', 'x'))\n",
    "    return relu(pooled_out + b.dimshuffle('x', 0, 'x', 'x'))\n"
   ]
  },
  {
   "cell_type": "code",
   "execution_count": 137,
   "metadata": {},
   "outputs": [],
   "source": [
    "# forward pass\n",
    "Z1 = convpool(X, W1, b1)\n",
    "Z2 = convpool(Z1, W2, b2)\n",
    "Z3 = relu(Z2.flatten(ndim=2).dot(W3) + b3)\n",
    "pY = th.nnet.softmax( Z3.dot(W4) + b4)"
   ]
  },
  {
   "cell_type": "code",
   "execution_count": 138,
   "metadata": {},
   "outputs": [],
   "source": [
    "# define the cost function and prediction\n",
    "cost = -(th.log(pY[th.arange(Y.shape[0]), Y])).mean()\n",
    "prediction = th.argmax(pY, axis=1)"
   ]
  },
  {
   "cell_type": "code",
   "execution_count": 139,
   "metadata": {},
   "outputs": [],
   "source": [
    "# step 3: training expressions and functions\n",
    "params = [W1, b1, W2, b2, W3, b3, W4, b4]"
   ]
  },
  {
   "cell_type": "code",
   "execution_count": 140,
   "metadata": {},
   "outputs": [],
   "source": [
    "# momentum changes\n",
    "dparams = [\n",
    "    theano.shared(\n",
    "        np.zeros_like(\n",
    "            p.get_value(),\n",
    "            dtype=np.float32\n",
    "        )\n",
    "    ) for p in params\n",
    "]"
   ]
  },
  {
   "cell_type": "code",
   "execution_count": 141,
   "metadata": {},
   "outputs": [],
   "source": [
    "updates = []\n",
    "grads = th.grad(cost, params)\n",
    "for p, dp, g in zip(params, dparams, grads):\n",
    "    dp_update = mu*dp - lr*g\n",
    "    p_update = p + dp_update\n",
    "\n",
    "    updates.append((dp, dp_update))\n",
    "    updates.append((p, p_update))"
   ]
  },
  {
   "cell_type": "code",
   "execution_count": 142,
   "metadata": {},
   "outputs": [],
   "source": [
    "train = theano.function(\n",
    "        inputs=[X, Y],\n",
    "        updates=updates,\n",
    "    )"
   ]
  },
  {
   "cell_type": "code",
   "execution_count": 143,
   "metadata": {},
   "outputs": [],
   "source": [
    "# create another function for this because we want it over the whole dataset\n",
    "get_prediction = theano.function(\n",
    "    inputs=[X, Y],\n",
    "    outputs=[cost, prediction],\n",
    ")"
   ]
  },
  {
   "cell_type": "code",
   "execution_count": 144,
   "metadata": {},
   "outputs": [],
   "source": [
    "def error_rate(p, t):\n",
    "    return np.mean(p != t)"
   ]
  },
  {
   "cell_type": "code",
   "execution_count": 145,
   "metadata": {},
   "outputs": [
    {
     "name": "stdout",
     "output_type": "stream",
     "text": [
      "Cost / err at iteration i=0, j=0: 2.506 / 0.892\n",
      "Cost / err at iteration i=0, j=10: 2.045 / 0.661\n",
      "Cost / err at iteration i=0, j=20: 1.417 / 0.278\n",
      "Cost / err at iteration i=0, j=30: 0.982 / 0.257\n",
      "Cost / err at iteration i=0, j=40: 0.625 / 0.164\n",
      "Cost / err at iteration i=0, j=50: 0.535 / 0.169\n",
      "Cost / err at iteration i=0, j=60: 0.448 / 0.136\n",
      "Cost / err at iteration i=1, j=0: 0.425 / 0.124\n",
      "Cost / err at iteration i=1, j=10: 0.428 / 0.119\n",
      "Cost / err at iteration i=1, j=20: 0.400 / 0.107\n",
      "Cost / err at iteration i=1, j=30: 0.423 / 0.106\n",
      "Cost / err at iteration i=1, j=40: 0.391 / 0.099\n",
      "Cost / err at iteration i=1, j=50: 0.385 / 0.096\n",
      "Cost / err at iteration i=1, j=60: 0.375 / 0.095\n",
      "Cost / err at iteration i=2, j=0: 0.320 / 0.083\n",
      "Cost / err at iteration i=2, j=10: 0.310 / 0.082\n",
      "Cost / err at iteration i=2, j=20: 0.290 / 0.081\n",
      "Cost / err at iteration i=2, j=30: 0.269 / 0.075\n",
      "Cost / err at iteration i=2, j=40: 0.265 / 0.079\n",
      "Cost / err at iteration i=2, j=50: 0.232 / 0.067\n",
      "Cost / err at iteration i=2, j=60: 0.229 / 0.070\n",
      "Cost / err at iteration i=3, j=0: 0.219 / 0.066\n",
      "Cost / err at iteration i=3, j=10: 0.199 / 0.058\n",
      "Cost / err at iteration i=3, j=20: 0.200 / 0.062\n",
      "Cost / err at iteration i=3, j=30: 0.203 / 0.063\n",
      "Cost / err at iteration i=3, j=40: 0.170 / 0.049\n",
      "Cost / err at iteration i=3, j=50: 0.180 / 0.050\n",
      "Cost / err at iteration i=3, j=60: 0.169 / 0.051\n",
      "Cost / err at iteration i=4, j=0: 0.167 / 0.051\n",
      "Cost / err at iteration i=4, j=10: 0.161 / 0.047\n",
      "Cost / err at iteration i=4, j=20: 0.149 / 0.043\n",
      "Cost / err at iteration i=4, j=30: 0.142 / 0.041\n",
      "Cost / err at iteration i=4, j=40: 0.138 / 0.039\n",
      "Cost / err at iteration i=4, j=50: 0.134 / 0.038\n",
      "Cost / err at iteration i=4, j=60: 0.128 / 0.038\n",
      "Cost / err at iteration i=5, j=0: 0.125 / 0.037\n",
      "Cost / err at iteration i=5, j=10: 0.121 / 0.035\n",
      "Cost / err at iteration i=5, j=20: 0.116 / 0.032\n",
      "Cost / err at iteration i=5, j=30: 0.115 / 0.032\n",
      "Cost / err at iteration i=5, j=40: 0.111 / 0.031\n",
      "Cost / err at iteration i=5, j=50: 0.106 / 0.030\n",
      "Cost / err at iteration i=5, j=60: 0.104 / 0.030\n",
      "Elapsed time: 0:02:09.251643\n"
     ]
    },
    {
     "data": {
      "image/png": "[encoded data removed]",
      "text/plain": [
       "<Figure size 432x288 with 1 Axes>"
      ]
     },
     "metadata": {
      "needs_background": "light"
     },
     "output_type": "display_data"
    }
   ],
   "source": [
    "t0 = datetime.now()\n",
    "costs = []\n",
    "for i in range(max_iter):\n",
    "    Xtrain, Ytrain = shuffle(Xtrain, Ytrain)\n",
    "    for j in range(n_batches):\n",
    "        Xbatch = Xtrain[j*batch_sz:(j*batch_sz + batch_sz),]\n",
    "        Ybatch = Ytrain[j*batch_sz:(j*batch_sz + batch_sz),]\n",
    "\n",
    "        train(Xbatch, Ybatch)\n",
    "        if j % print_period == 0:\n",
    "            cost_val, prediction_val = get_prediction(Xtest, Ytest)\n",
    "            err = error_rate(prediction_val, Ytest)\n",
    "            print(\"Cost / err at iteration i=%d, j=%d: %.3f / %.3f\" % (i, j, cost_val, err))\n",
    "            costs.append(cost_val)\n",
    "print(\"Elapsed time:\", (datetime.now() - t0))\n",
    "plt.plot(costs)\n",
    "plt.show()"
   ]
  },
  {
   "cell_type": "code",
   "execution_count": null,
   "metadata": {},
   "outputs": [],
   "source": []
  }
 ],
 "metadata": {
  "kernelspec": {
   "display_name": "Python 3",
   "language": "python",
   "name": "python3"
  },
  "language_info": {
   "codemirror_mode": {
    "name": "ipython",
    "version": 3
   },
   "file_extension": ".py",
   "mimetype": "text/x-python",
   "name": "python",
   "nbconvert_exporter": "python",
   "pygments_lexer": "ipython3",
   "version": "3.7.0"
  }
 },
 "nbformat": 4,
 "nbformat_minor": 2
}
