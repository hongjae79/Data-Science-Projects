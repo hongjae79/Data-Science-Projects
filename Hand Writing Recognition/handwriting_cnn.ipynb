{
 "cells": [
  {
   "cell_type": "code",
   "execution_count": 57,
   "metadata": {},
   "outputs": [],
   "source": [
    "from __future__ import division\n",
    "\n",
    "from keras.models import Sequential\n",
    "from keras.layers import Dense, Dropout, Activation, Flatten\n",
    "from keras.layers import Conv2D, MaxPooling2D, BatchNormalization\n",
    "from keras.utils import to_categorical # this is for changing label to categorical\n",
    "from keras.preprocessing.image import ImageDataGenerator\n",
    "from keras.callbacks import ReduceLROnPlateau, LearningRateScheduler\n",
    "import matplotlib.pyplot as plt\n",
    "import pandas as pd\n",
    "import numpy as np\n",
    "import keras as kr\n",
    "from scipy.io import loadmat\n",
    "from sklearn.utils import shuffle"
   ]
  },
  {
   "cell_type": "code",
   "execution_count": 72,
   "metadata": {},
   "outputs": [],
   "source": [
    "df = pd.read_csv('./train.csv')\n",
    "df_test = pd.read_csv('./test.csv')"
   ]
  },
  {
   "cell_type": "code",
   "execution_count": 49,
   "metadata": {},
   "outputs": [],
   "source": [
    "# Load data\n",
    "\n",
    "data = df.values.astype(np.float32)\n",
    "np.random.shuffle(data)\n",
    "X = data[:, 1:]\n",
    "Y = data[:, 0]\n",
    "\n",
    "Xtrain = X[:-1000]\n",
    "Ytrain = Y[:-1000]\n",
    "Xtest  = X[-1000:]\n",
    "Ytest  = Y[-1000:]"
   ]
  },
  {
   "cell_type": "code",
   "execution_count": 13,
   "metadata": {},
   "outputs": [
    {
     "data": {
      "image/png": "[encoded data removed]",
      "text/plain": [
       "<Figure size 432x288 with 1 Axes>"
      ]
     },
     "metadata": {
      "needs_background": "light"
     },
     "output_type": "display_data"
    }
   ],
   "source": [
    "s = np.reshape(Xtrain[0], (28, 28))\n",
    "plt.imshow(s)\n",
    "plt.show()"
   ]
  },
  {
   "cell_type": "code",
   "execution_count": 50,
   "metadata": {},
   "outputs": [],
   "source": [
    "Xtrain = Xtrain.astype('float32')/255\n",
    "Xtest = Xtest.astype('float32')/255"
   ]
  },
  {
   "cell_type": "code",
   "execution_count": 51,
   "metadata": {},
   "outputs": [],
   "source": [
    "Ytrain_ind = to_categorical(Ytrain, num_classes=10)\n",
    "Ytest_ind = to_categorical(Ytest, num_classes=10)"
   ]
  },
  {
   "cell_type": "code",
   "execution_count": 52,
   "metadata": {},
   "outputs": [],
   "source": [
    "Xtrain = Xtrain.reshape(-1, 28, 28, 1)\n",
    "Xtest = Xtest.reshape(-1,28,28,1)"
   ]
  },
  {
   "cell_type": "code",
   "execution_count": 73,
   "metadata": {},
   "outputs": [],
   "source": [
    "test = df_test.values.astype(np.float32)\n",
    "test = test.astype('float32')/255\n",
    "test = test.reshape(-1, 28, 28,1)"
   ]
  },
  {
   "cell_type": "code",
   "execution_count": 53,
   "metadata": {},
   "outputs": [],
   "source": [
    "model = Sequential()\n",
    "model.add(Conv2D(filters=32, kernel_size=(3, 3), activation='relu', strides=1, padding='same', data_format='channels_last',\n",
    "                 input_shape=(28,28,1)))\n",
    "model.add(BatchNormalization())\n",
    "model.add(Conv2D(filters=32, kernel_size=(3, 3), activation='relu', strides=1, padding='same', data_format='channels_last'))\n",
    "model.add(BatchNormalization())\n",
    "model.add(MaxPooling2D(pool_size=(2, 2), strides=2, padding='valid' ))\n",
    "model.add(Dropout(0.25))\n",
    "\n",
    "model.add(Conv2D(filters=64, kernel_size=(3, 3), activation='relu', strides=1, padding='same', data_format='channels_last'))\n",
    "model.add(BatchNormalization())\n",
    "model.add(Conv2D(filters=64, kernel_size=(3, 3), strides=1, padding='same', activation='relu', data_format='channels_last'))\n",
    "model.add(BatchNormalization())\n",
    "model.add(MaxPooling2D(pool_size=(2, 2), padding='valid', strides=2))\n",
    "model.add(Dropout(0.25))\n",
    "\n",
    "model.add(Flatten())\n",
    "model.add(Dense(512, activation='relu'))\n",
    "model.add(BatchNormalization())\n",
    "model.add(Dropout(0.25))\n",
    "model.add(Dense(1024, activation='relu'))\n",
    "model.add(BatchNormalization())\n",
    "model.add(Dropout(0.5))\n",
    "model.add(Dense(10, activation='softmax'))"
   ]
  },
  {
   "cell_type": "code",
   "execution_count": 54,
   "metadata": {},
   "outputs": [],
   "source": [
    "optimizer = kr.optimizers.Adam(lr=0.001, beta_1=0.9, beta_2=0.999 )\n",
    "model.compile(optimizer=optimizer, loss=\"categorical_crossentropy\", metrics=[\"accuracy\"])"
   ]
  },
  {
   "cell_type": "code",
   "execution_count": 58,
   "metadata": {},
   "outputs": [],
   "source": [
    "datagen = ImageDataGenerator(\n",
    "        featurewise_center=False,  # set input mean to 0 over the dataset\n",
    "        samplewise_center=False,  # set each sample mean to 0\n",
    "        featurewise_std_normalization=False,  # divide inputs by std of the dataset\n",
    "        samplewise_std_normalization=False,  # divide each input by its std\n",
    "        zca_whitening=False,  # apply ZCA whitening\n",
    "        rotation_range=10,  # randomly rotate images in the range (degrees, 0 to 180)\n",
    "        zoom_range = 0.1, # Randomly zoom image \n",
    "        width_shift_range=0.1,  # randomly shift images horizontally (fraction of total width)\n",
    "        height_shift_range=0.1,  # randomly shift images vertically (fraction of total height)\n",
    "        horizontal_flip=False,  # randomly flip images\n",
    "        vertical_flip=False)  # randomly flip images"
   ]
  },
  {
   "cell_type": "code",
   "execution_count": 59,
   "metadata": {},
   "outputs": [],
   "source": [
    "reduce_lr = LearningRateScheduler(lambda x: 1e-3 * 0.9 ** x)"
   ]
  },
  {
   "cell_type": "code",
   "execution_count": 60,
   "metadata": {},
   "outputs": [],
   "source": [
    "datagen.fit(Xtrain)"
   ]
  },
  {
   "cell_type": "code",
   "execution_count": 61,
   "metadata": {},
   "outputs": [],
   "source": [
    "batch_size = 64\n",
    "epochs = 20"
   ]
  },
  {
   "cell_type": "code",
   "execution_count": 62,
   "metadata": {},
   "outputs": [],
   "source": [
    "generator = datagen.flow(Xtrain, Ytrain_ind, batch_size = batch_size)"
   ]
  },
  {
   "cell_type": "code",
   "execution_count": 63,
   "metadata": {},
   "outputs": [],
   "source": [
    "val_data = (Xtest, Ytest_ind)"
   ]
  },
  {
   "cell_type": "code",
   "execution_count": 66,
   "metadata": {},
   "outputs": [
    {
     "name": "stdout",
     "output_type": "stream",
     "text": [
      "Epoch 1/20\n",
      " - 482s - loss: 0.2148 - acc: 0.9391 - val_loss: 0.0554 - val_acc: 0.9830\n",
      "Epoch 2/20\n",
      " - 494s - loss: 0.1065 - acc: 0.9682 - val_loss: 0.0478 - val_acc: 0.9850\n",
      "Epoch 3/20\n",
      " - 487s - loss: 0.0802 - acc: 0.9762 - val_loss: 0.0443 - val_acc: 0.9850\n",
      "Epoch 4/20\n",
      " - 493s - loss: 0.0729 - acc: 0.9780 - val_loss: 0.0397 - val_acc: 0.9890\n",
      "Epoch 5/20\n",
      " - 450s - loss: 0.0622 - acc: 0.9813 - val_loss: 0.0333 - val_acc: 0.9920\n",
      "Epoch 6/20\n",
      " - 438s - loss: 0.0509 - acc: 0.9849 - val_loss: 0.0309 - val_acc: 0.9920\n",
      "Epoch 7/20\n",
      " - 442s - loss: 0.0495 - acc: 0.9857 - val_loss: 0.0269 - val_acc: 0.9940\n",
      "Epoch 8/20\n",
      " - 438s - loss: 0.0427 - acc: 0.9872 - val_loss: 0.0384 - val_acc: 0.9870\n",
      "Epoch 9/20\n",
      " - 437s - loss: 0.0405 - acc: 0.9877 - val_loss: 0.0271 - val_acc: 0.9920\n",
      "Epoch 10/20\n",
      " - 437s - loss: 0.0379 - acc: 0.9888 - val_loss: 0.0250 - val_acc: 0.9920\n",
      "Epoch 11/20\n",
      " - 438s - loss: 0.0338 - acc: 0.9896 - val_loss: 0.0254 - val_acc: 0.9940\n",
      "Epoch 12/20\n",
      " - 438s - loss: 0.0309 - acc: 0.9900 - val_loss: 0.0200 - val_acc: 0.9940\n",
      "Epoch 13/20\n",
      " - 438s - loss: 0.0313 - acc: 0.9905 - val_loss: 0.0270 - val_acc: 0.9900\n",
      "Epoch 14/20\n",
      " - 437s - loss: 0.0250 - acc: 0.9921 - val_loss: 0.0260 - val_acc: 0.9940\n",
      "Epoch 15/20\n",
      " - 435s - loss: 0.0265 - acc: 0.9918 - val_loss: 0.0252 - val_acc: 0.9920\n",
      "Epoch 16/20\n",
      " - 435s - loss: 0.0270 - acc: 0.9918 - val_loss: 0.0316 - val_acc: 0.9920\n",
      "Epoch 17/20\n",
      " - 437s - loss: 0.0217 - acc: 0.9932 - val_loss: 0.0215 - val_acc: 0.9940\n",
      "Epoch 18/20\n",
      " - 438s - loss: 0.0219 - acc: 0.9932 - val_loss: 0.0173 - val_acc: 0.9960\n",
      "Epoch 19/20\n",
      " - 436s - loss: 0.0204 - acc: 0.9937 - val_loss: 0.0247 - val_acc: 0.9940\n",
      "Epoch 20/20\n",
      " - 436s - loss: 0.0201 - acc: 0.9937 - val_loss: 0.0185 - val_acc: 0.9940\n"
     ]
    }
   ],
   "source": [
    "history = model.fit_generator(generator, epochs = epochs, validation_data = val_data, verbose=2,\n",
    "                              steps_per_epoch = Xtrain.shape[0]//batch_size, callbacks = [reduce_lr])"
   ]
  },
  {
   "cell_type": "code",
   "execution_count": 67,
   "metadata": {},
   "outputs": [
    {
     "name": "stdout",
     "output_type": "stream",
     "text": [
      "1000/1000 [==============================] - 5s 5ms/step\n"
     ]
    },
    {
     "data": {
      "text/plain": [
       "[0.018469376169508906, 0.994]"
      ]
     },
     "execution_count": 67,
     "metadata": {},
     "output_type": "execute_result"
    }
   ],
   "source": [
    "model.evaluate(Xtest, Ytest_ind)"
   ]
  },
  {
   "cell_type": "code",
   "execution_count": 68,
   "metadata": {},
   "outputs": [
    {
     "data": {
      "image/png": "[encoded data removed]",
      "text/plain": [
       "<Figure size 432x288 with 1 Axes>"
      ]
     },
     "metadata": {
      "needs_background": "light"
     },
     "output_type": "display_data"
    }
   ],
   "source": [
    "plt.plot(history.history['loss'])\n",
    "plt.plot(history.history['val_loss'])\n",
    "plt.title(\"Model Loss\")\n",
    "plt.xlabel('Epochs')\n",
    "plt.ylabel('Loss')\n",
    "plt.legend(['Train', 'Test'])\n",
    "plt.show()"
   ]
  },
  {
   "cell_type": "code",
   "execution_count": 69,
   "metadata": {},
   "outputs": [
    {
     "data": {
      "image/png": "[encoded data removed]",
      "text/plain": [
       "<Figure size 432x288 with 1 Axes>"
      ]
     },
     "metadata": {
      "needs_background": "light"
     },
     "output_type": "display_data"
    }
   ],
   "source": [
    "plt.plot(history.history['acc'])\n",
    "plt.plot(history.history['val_acc'])\n",
    "plt.title('Model Accuracy')\n",
    "plt.xlabel('Epochs')\n",
    "plt.ylabel('Accuracy')\n",
    "plt.legend(['Train','Test'])\n",
    "plt.show()"
   ]
  },
  {
   "cell_type": "code",
   "execution_count": 74,
   "metadata": {},
   "outputs": [],
   "source": [
    "pred_digits_test=np.argmax(model.predict(test),axis=1)\n",
    "image_id_test=[]\n",
    "for i in range (len(pred_digits_test)):\n",
    "    image_id_test.append(i+1)\n",
    "d={'ImageId':image_id_test,'Label':pred_digits_test}\n",
    "answer=pd.DataFrame(d)\n",
    "answer.to_csv('answer.csv',index=False)"
   ]
  },
  {
   "cell_type": "code",
   "execution_count": 86,
   "metadata": {},
   "outputs": [],
   "source": [
    "data_test = df_test.values.astype(np.float32)"
   ]
  },
  {
   "cell_type": "code",
   "execution_count": 95,
   "metadata": {},
   "outputs": [
    {
     "data": {
      "image/png": "[encoded data removed]",
      "text/plain": [
       "<Figure size 432x288 with 1 Axes>"
      ]
     },
     "metadata": {
      "needs_background": "light"
     },
     "output_type": "display_data"
    }
   ],
   "source": [
    "s = np.reshape(data_test[472], (28, 28))\n",
    "plt.imshow(s)\n",
    "plt.title(pred_digits_test[472])\n",
    "plt.show()"
   ]
  },
  {
   "cell_type": "code",
   "execution_count": null,
   "metadata": {},
   "outputs": [],
   "source": []
  }
 ],
 "metadata": {
  "kernelspec": {
   "display_name": "Python 3",
   "language": "python",
   "name": "python3"
  },
  "language_info": {
   "codemirror_mode": {
    "name": "ipython",
    "version": 3
   },
   "file_extension": ".py",
   "mimetype": "text/x-python",
   "name": "python",
   "nbconvert_exporter": "python",
   "pygments_lexer": "ipython3",
   "version": "3.8.5"
  }
 },
 "nbformat": 4,
 "nbformat_minor": 2
}
