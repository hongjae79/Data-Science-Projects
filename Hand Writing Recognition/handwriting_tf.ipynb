{
 "cells": [
  {
   "cell_type": "code",
   "execution_count": 1,
   "metadata": {},
   "outputs": [],
   "source": [
    "import numpy as np\n",
    "import pandas as pd\n",
    "import tensorflow as tf\n",
    "import matplotlib.pyplot as plt\n",
    "\n",
    "from datetime import datetime\n",
    "from scipy.signal import convolve2d\n",
    "from scipy.io import loadmat\n",
    "from sklearn.utils import shuffle"
   ]
  },
  {
   "cell_type": "code",
   "execution_count": 2,
   "metadata": {},
   "outputs": [],
   "source": [
    "train = pd.read_csv(\"../Hand writing recognition/train.csv\")\n",
    "test = pd.read_csv(\"../Hand writing recognition/test.csv\")"
   ]
  },
  {
   "cell_type": "code",
   "execution_count": 3,
   "metadata": {},
   "outputs": [],
   "source": [
    "train_images =train.iloc[0:42000,1:]\n",
    "train_labels = train.iloc[0:42000,:1]\n",
    "test_images = test"
   ]
  },
  {
   "cell_type": "code",
   "execution_count": 4,
   "metadata": {},
   "outputs": [
    {
     "name": "stderr",
     "output_type": "stream",
     "text": [
      "C:\\Users\\hongj\\Anaconda2\\envs\\Tensorflow\\lib\\site-packages\\ipykernel_launcher.py:1: FutureWarning: Method .as_matrix will be removed in a future version. Use .values instead.\n",
      "  \"\"\"Entry point for launching an IPython kernel.\n"
     ]
    }
   ],
   "source": [
    "train_images_to_array = train_images.as_matrix(columns=None).astype(np.float)\n",
    "train_labels_to_array = np.array(train_labels['label'].tolist())"
   ]
  },
  {
   "cell_type": "code",
   "execution_count": 5,
   "metadata": {},
   "outputs": [],
   "source": [
    "X = []\n",
    "\n",
    "for i in range(len(train_images_to_array)):\n",
    "    x = np.reshape(train_images_to_array[i], (28, 28))\n",
    "    X.append(x)"
   ]
  },
  {
   "cell_type": "code",
   "execution_count": 6,
   "metadata": {},
   "outputs": [],
   "source": [
    "def reshape(data):\n",
    "    l = []\n",
    "\n",
    "    for i in range(len(data)):\n",
    "        l.append([data[i]])\n",
    "\n",
    "    data = np.asarray(l)\n",
    "    return (data/255.0).astype(np.float32)"
   ]
  },
  {
   "cell_type": "code",
   "execution_count": 7,
   "metadata": {},
   "outputs": [],
   "source": [
    "X = reshape(X)"
   ]
  },
  {
   "cell_type": "code",
   "execution_count": 8,
   "metadata": {},
   "outputs": [
    {
     "data": {
      "text/plain": [
       "(42000, 1, 28, 28)"
      ]
     },
     "execution_count": 8,
     "metadata": {},
     "output_type": "execute_result"
    }
   ],
   "source": [
    "X.shape"
   ]
  },
  {
   "cell_type": "code",
   "execution_count": 9,
   "metadata": {},
   "outputs": [],
   "source": [
    "def rearrange(X):\n",
    "    # input is (32, 32, 3, N)\n",
    "    # output is (N, 32, 32, 3)\n",
    "    # N = X.shape[-1]\n",
    "    # out = np.zeros((N, 32, 32, 3), dtype=np.float32)\n",
    "    # for i in xrange(N):\n",
    "    #     for j in xrange(3):\n",
    "    #         out[i, :, :, j] = X[:, :, j, i]\n",
    "    # return out / 255\n",
    "    return X.transpose(0, 2, 3, 1) "
   ]
  },
  {
   "cell_type": "code",
   "execution_count": 10,
   "metadata": {},
   "outputs": [],
   "source": [
    "X = rearrange(X)"
   ]
  },
  {
   "cell_type": "code",
   "execution_count": 11,
   "metadata": {},
   "outputs": [
    {
     "data": {
      "text/plain": [
       "(42000, 28, 28, 1)"
      ]
     },
     "execution_count": 11,
     "metadata": {},
     "output_type": "execute_result"
    }
   ],
   "source": [
    "X.shape"
   ]
  },
  {
   "cell_type": "code",
   "execution_count": 12,
   "metadata": {},
   "outputs": [
    {
     "name": "stderr",
     "output_type": "stream",
     "text": [
      "C:\\Users\\hongj\\Anaconda2\\envs\\Tensorflow\\lib\\site-packages\\ipykernel_launcher.py:1: FutureWarning: Method .as_matrix will be removed in a future version. Use .values instead.\n",
      "  \"\"\"Entry point for launching an IPython kernel.\n"
     ]
    }
   ],
   "source": [
    "Y = train_labels.label.as_matrix()"
   ]
  },
  {
   "cell_type": "code",
   "execution_count": 13,
   "metadata": {},
   "outputs": [],
   "source": [
    "Y = Y.astype(int)"
   ]
  },
  {
   "cell_type": "code",
   "execution_count": 14,
   "metadata": {},
   "outputs": [],
   "source": [
    "from sklearn.model_selection import train_test_split\n",
    "\n",
    "Xtrain, Xtest, Ytrain, Ytest = train_test_split( X, Y,\n",
    "                                                    test_size=0.2, random_state=42)"
   ]
  },
  {
   "cell_type": "code",
   "execution_count": 16,
   "metadata": {},
   "outputs": [],
   "source": [
    "# gradient descent params\n",
    "max_iter = 12\n",
    "print_period = 30\n",
    "N = Xtrain.shape[0]\n",
    "batch_sz = 500\n",
    "n_batches = N // batch_sz"
   ]
  },
  {
   "cell_type": "code",
   "execution_count": 31,
   "metadata": {},
   "outputs": [],
   "source": [
    "# initial weights and same padding for this model\n",
    "M = 500\n",
    "K = 10\n",
    "poolsz = (2, 2)"
   ]
  },
  {
   "cell_type": "code",
   "execution_count": 32,
   "metadata": {},
   "outputs": [],
   "source": [
    "def init_filter(shape, poolsz):\n",
    "    # w = np.random.randn(*shape) * np.sqrt(2) / np.sqrt(np.prod(shape[:-1]) + shape[-1]*np.prod(shape[:-2]) / np.prod(poolsz))\n",
    "    w = np.random.randn(*shape) * np.sqrt(2.0 / np.prod(shape[:-1]))\n",
    "    return w.astype(np.float32)"
   ]
  },
  {
   "cell_type": "code",
   "execution_count": 33,
   "metadata": {},
   "outputs": [],
   "source": [
    "W1_shape = (5, 5, Xtrain.shape[3], 20) # (filter_width, filter_height, num_color_channels, num_feature_maps)\n",
    "W1_init = init_filter(W1_shape, poolsz)\n",
    "b1_init = np.zeros(W1_shape[-1], dtype=np.float32) # one bias per output feature map"
   ]
  },
  {
   "cell_type": "code",
   "execution_count": 34,
   "metadata": {},
   "outputs": [],
   "source": [
    "W2_shape = (5, 5, W1_shape[3], 50) # (filter_width, filter_height, old_num_feature_maps, num_feature_maps)\n",
    "W2_init = init_filter(W2_shape, poolsz)\n",
    "b2_init = np.zeros(W2_shape[-1], dtype=np.float32)"
   ]
  },
  {
   "cell_type": "code",
   "execution_count": 35,
   "metadata": {},
   "outputs": [
    {
     "name": "stdout",
     "output_type": "stream",
     "text": [
      "7\n"
     ]
    }
   ],
   "source": [
    "#same padding\n",
    "\n",
    "ac1 = Xtrain.shape[1]\n",
    "ap1 = ac1 / poolsz[0]\n",
    "ac2 = ap1 \n",
    "ap2 = ac2 / poolsz[0]\n",
    "ap2 = int(ap2)\n",
    "print(ap2)"
   ]
  },
  {
   "cell_type": "code",
   "execution_count": 36,
   "metadata": {},
   "outputs": [],
   "source": [
    "# vanilla ANN weights\n",
    "W3_init = np.random.randn(W2_shape[-1]*ap2*ap2, M) / np.sqrt(W2_shape[-1]*ap2*ap2 + M)\n",
    "b3_init = np.zeros(M, dtype=np.float32)\n",
    "W4_init = np.random.randn(M, K) / np.sqrt(M + K)\n",
    "b4_init = np.zeros(K, dtype=np.float32)"
   ]
  },
  {
   "cell_type": "code",
   "execution_count": 37,
   "metadata": {},
   "outputs": [],
   "source": [
    "# define variables and expressions\n",
    "# using None as the first shape element takes up too much RAM unfortunately\n",
    "X = tf.placeholder(tf.float32, shape=(batch_sz, Xtrain.shape[1], Xtrain.shape[2], Xtrain.shape[3]), name='X')\n",
    "T = tf.placeholder(tf.int32, shape=(batch_sz,), name='T')\n",
    "W1 = tf.Variable(W1_init.astype(np.float32))\n",
    "b1 = tf.Variable(b1_init.astype(np.float32))\n",
    "W2 = tf.Variable(W2_init.astype(np.float32))\n",
    "b2 = tf.Variable(b2_init.astype(np.float32))\n",
    "W3 = tf.Variable(W3_init.astype(np.float32))\n",
    "b3 = tf.Variable(b3_init.astype(np.float32))\n",
    "W4 = tf.Variable(W4_init.astype(np.float32))\n",
    "b4 = tf.Variable(b4_init.astype(np.float32))"
   ]
  },
  {
   "cell_type": "code",
   "execution_count": 38,
   "metadata": {},
   "outputs": [],
   "source": [
    "def convpool(X, W, b):\n",
    "    # just assume pool size is (2,2) because we need to augment it with 1s\n",
    "    conv_out = tf.nn.conv2d(X, W, strides=[1, 1, 1, 1], padding='SAME')\n",
    "    conv_out = tf.nn.bias_add(conv_out, b)\n",
    "    pool_out = tf.nn.max_pool(conv_out, ksize=[1, 2, 2, 1], strides=[1, 2, 2, 1], padding='SAME')\n",
    "    return tf.nn.relu(pool_out)\n",
    "\n",
    "#conv2d\n",
    "#strides: A list of ints. 1-D tensor of length 4. The stride of the sliding window for each dimension of input.\n",
    "#The dimension order is determined by the value of data_format, see below for details.\n",
    "#Must have strides[0] = strides[3] = 1. For the most common case of the same horizontal and vertices strides, \n",
    "# strides = [1, stride, stride, 1]\n",
    "\n",
    "#max_pool\n",
    "#ksize: A list or tuple of 4 ints. The size of the window for each dimension of the input tensor.\n",
    "#strides: A list or tuple of 4 ints. The stride of the sliding window for each dimension of the input tensor."
   ]
  },
  {
   "cell_type": "code",
   "execution_count": 39,
   "metadata": {},
   "outputs": [],
   "source": [
    "Z1 = convpool(X, W1, b1)\n",
    "Z2 = convpool(Z1, W2, b2)\n",
    "Z2_shape = Z2.get_shape().as_list()\n",
    "Z2r = tf.reshape(Z2, [Z2_shape[0], np.prod(Z2_shape[1:])])\n",
    "Z3 = tf.nn.relu( tf.matmul(Z2r, W3) + b3 )\n",
    "Yish = tf.matmul(Z3, W4) + b4"
   ]
  },
  {
   "cell_type": "code",
   "execution_count": 40,
   "metadata": {},
   "outputs": [],
   "source": [
    "cost = tf.reduce_sum(\n",
    "        tf.nn.sparse_softmax_cross_entropy_with_logits(\n",
    "            logits=Yish,\n",
    "            labels=T\n",
    "        )\n",
    "    )"
   ]
  },
  {
   "cell_type": "code",
   "execution_count": 41,
   "metadata": {},
   "outputs": [],
   "source": [
    "train_op = tf.train.RMSPropOptimizer(0.0001, decay=0.99, momentum=0.9).minimize(cost)"
   ]
  },
  {
   "cell_type": "code",
   "execution_count": 42,
   "metadata": {},
   "outputs": [],
   "source": [
    "# we'll use this to calculate the error rate\n",
    "predict_op = tf.argmax(Yish, 1)"
   ]
  },
  {
   "cell_type": "code",
   "execution_count": 43,
   "metadata": {},
   "outputs": [],
   "source": [
    "def error_rate(p, t):\n",
    "    return np.mean(p != t)"
   ]
  },
  {
   "cell_type": "code",
   "execution_count": 46,
   "metadata": {},
   "outputs": [
    {
     "name": "stdout",
     "output_type": "stream",
     "text": [
      "Cost / err at iteration i=0, j=0: 17587.884 / 0.790\n",
      "Cost / err at iteration i=0, j=30: 2161.281 / 0.118\n",
      "Cost / err at iteration i=0, j=60: 1222.521 / 0.086\n",
      "Cost / err at iteration i=1, j=0: 1155.160 / 0.086\n",
      "Cost / err at iteration i=1, j=30: 869.364 / 0.074\n",
      "Cost / err at iteration i=1, j=60: 670.258 / 0.067\n",
      "Cost / err at iteration i=2, j=0: 648.078 / 0.067\n",
      "Cost / err at iteration i=2, j=30: 584.605 / 0.064\n",
      "Cost / err at iteration i=2, j=60: 506.666 / 0.061\n",
      "Cost / err at iteration i=3, j=0: 464.995 / 0.061\n",
      "Cost / err at iteration i=3, j=30: 457.287 / 0.059\n",
      "Cost / err at iteration i=3, j=60: 463.365 / 0.060\n",
      "Cost / err at iteration i=4, j=0: 403.832 / 0.058\n",
      "Cost / err at iteration i=4, j=30: 425.650 / 0.058\n",
      "Cost / err at iteration i=4, j=60: 490.870 / 0.061\n",
      "Cost / err at iteration i=5, j=0: 410.501 / 0.058\n",
      "Cost / err at iteration i=5, j=30: 446.535 / 0.058\n",
      "Cost / err at iteration i=5, j=60: 521.605 / 0.061\n",
      "Cost / err at iteration i=6, j=0: 428.232 / 0.059\n",
      "Cost / err at iteration i=6, j=30: 414.649 / 0.057\n",
      "Cost / err at iteration i=6, j=60: 414.369 / 0.057\n",
      "Cost / err at iteration i=7, j=0: 419.962 / 0.060\n",
      "Cost / err at iteration i=7, j=30: 440.057 / 0.057\n",
      "Cost / err at iteration i=7, j=60: 431.611 / 0.058\n",
      "Cost / err at iteration i=8, j=0: 423.644 / 0.059\n",
      "Cost / err at iteration i=8, j=30: 457.102 / 0.058\n",
      "Cost / err at iteration i=8, j=60: 401.816 / 0.057\n",
      "Cost / err at iteration i=9, j=0: 465.459 / 0.059\n",
      "Cost / err at iteration i=9, j=30: 411.161 / 0.057\n",
      "Cost / err at iteration i=9, j=60: 429.261 / 0.057\n",
      "Cost / err at iteration i=10, j=0: 415.003 / 0.057\n",
      "Cost / err at iteration i=10, j=30: 769.024 / 0.066\n",
      "Cost / err at iteration i=10, j=60: 363.843 / 0.055\n",
      "Cost / err at iteration i=11, j=0: 367.200 / 0.056\n",
      "Cost / err at iteration i=11, j=30: 393.303 / 0.055\n",
      "Cost / err at iteration i=11, j=60: 368.645 / 0.055\n",
      "Elapsed time: 0:09:08.263388\n"
     ]
    },
    {
     "data": {
      "image/png": "[encoded data removed]",
      "text/plain": [
       "<Figure size 432x288 with 1 Axes>"
      ]
     },
     "metadata": {
      "needs_background": "light"
     },
     "output_type": "display_data"
    }
   ],
   "source": [
    "t0 = datetime.now()\n",
    "LL = []\n",
    "W1_val = None\n",
    "W2_val = None\n",
    "init = tf.global_variables_initializer()\n",
    "with tf.Session() as session:\n",
    "    session.run(init)\n",
    "\n",
    "    for i in range(max_iter):\n",
    "        for j in range(n_batches):\n",
    "            Xbatch = Xtrain[j*batch_sz:(j*batch_sz + batch_sz),]\n",
    "            Ybatch = Ytrain[j*batch_sz:(j*batch_sz + batch_sz),]\n",
    "\n",
    "            if len(Xbatch) == batch_sz:\n",
    "                session.run(train_op, feed_dict={X: Xbatch, T: Ybatch})\n",
    "                if j % print_period == 0:\n",
    "                    # due to RAM limitations we need to have a fixed size input\n",
    "                    # so as a result, we have this ugly total cost and prediction computation\n",
    "                    test_cost = 0\n",
    "                    prediction = np.zeros(len(Xtest))\n",
    "                    for k in range(len(Xtest) // batch_sz):\n",
    "                        Xtestbatch = Xtest[k*batch_sz:(k*batch_sz + batch_sz),]\n",
    "                        Ytestbatch = Ytest[k*batch_sz:(k*batch_sz + batch_sz),]\n",
    "                        test_cost += session.run(cost, feed_dict={X: Xtestbatch, T: Ytestbatch})\n",
    "                        prediction[k*batch_sz:(k*batch_sz + batch_sz)] = session.run(\n",
    "                            predict_op, feed_dict={X: Xtestbatch})\n",
    "                    err = error_rate(prediction, Ytest)\n",
    "                    print(\"Cost / err at iteration i=%d, j=%d: %.3f / %.3f\" % (i, j, test_cost, err))\n",
    "                    LL.append(test_cost)\n",
    "\n",
    "    W1_val = W1.eval()\n",
    "    W2_val = W2.eval()\n",
    "print(\"Elapsed time:\", (datetime.now() - t0))\n",
    "plt.plot(LL)\n",
    "plt.show()"
   ]
  },
  {
   "cell_type": "code",
   "execution_count": null,
   "metadata": {},
   "outputs": [],
   "source": []
  }
 ],
 "metadata": {
  "kernelspec": {
   "display_name": "Python 3",
   "language": "python",
   "name": "python3"
  },
  "language_info": {
   "codemirror_mode": {
    "name": "ipython",
    "version": 3
   },
   "file_extension": ".py",
   "mimetype": "text/x-python",
   "name": "python",
   "nbconvert_exporter": "python",
   "pygments_lexer": "ipython3",
   "version": "3.8.5"
  }
 },
 "nbformat": 4,
 "nbformat_minor": 2
}
