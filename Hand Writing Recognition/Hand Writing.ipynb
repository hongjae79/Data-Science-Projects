{
 "cells": [
  {
   "cell_type": "code",
   "execution_count": 1,
   "metadata": {},
   "outputs": [],
   "source": [
    "import pandas as pd\n",
    "import matplotlib.pyplot as plt\n",
    "import numpy as np\n",
    "from sklearn import svm\n",
    "from sklearn import preprocessing"
   ]
  },
  {
   "cell_type": "code",
   "execution_count": 2,
   "metadata": {},
   "outputs": [],
   "source": [
    "train = pd.read_csv(\"../Hand writing recognition/train.csv\")\n",
    "test = pd.read_csv(\"../Hand writing recognition/test.csv\")"
   ]
  },
  {
   "cell_type": "code",
   "execution_count": 3,
   "metadata": {},
   "outputs": [],
   "source": [
    "train_images =train.iloc[0:42000,1:]\n",
    "train_labels = train.iloc[0:42000,:1]\n",
    "test_images = test"
   ]
  },
  {
   "cell_type": "code",
   "execution_count": 4,
   "metadata": {},
   "outputs": [
    {
     "name": "stderr",
     "output_type": "stream",
     "text": [
      "C:\\Users\\Jason\\Anaconda3\\envs\\working-env\\lib\\site-packages\\ipykernel_launcher.py:1: FutureWarning: Method .as_matrix will be removed in a future version. Use .values instead.\n",
      "  \"\"\"Entry point for launching an IPython kernel.\n",
      "C:\\Users\\Jason\\Anaconda3\\envs\\working-env\\lib\\site-packages\\ipykernel_launcher.py:4: FutureWarning: Method .as_matrix will be removed in a future version. Use .values instead.\n",
      "  after removing the cwd from sys.path.\n"
     ]
    }
   ],
   "source": [
    "x= train_images.as_matrix(columns=None).astype(np.float)\n",
    "a= train_labels['label'].tolist()\n",
    "y = np.array(a)\n",
    "u= test_images.as_matrix(columns = None).astype(np.float)"
   ]
  },
  {
   "cell_type": "code",
   "execution_count": 5,
   "metadata": {},
   "outputs": [],
   "source": [
    "x_scaled = preprocessing.scale(x)\n",
    "u_scaled = preprocessing.scale(u)"
   ]
  },
  {
   "cell_type": "code",
   "execution_count": 6,
   "metadata": {},
   "outputs": [
    {
     "data": {
      "text/plain": [
       "SVC(C=4, cache_size=200, class_weight=None, coef0=0.0,\n",
       "  decision_function_shape='ovr', degree=3, gamma='auto', kernel='rbf',\n",
       "  max_iter=-1, probability=False, random_state=None, shrinking=True,\n",
       "  tol=0.001, verbose=False)"
      ]
     },
     "execution_count": 6,
     "metadata": {},
     "output_type": "execute_result"
    }
   ],
   "source": [
    "clf= svm.SVC(C = 4)\n",
    "clf.fit(x_scaled,y)"
   ]
  },
  {
   "cell_type": "code",
   "execution_count": 7,
   "metadata": {},
   "outputs": [],
   "source": [
    "result_array = np.array([])\n",
    "index_array = np.array([])"
   ]
  },
  {
   "cell_type": "code",
   "execution_count": 8,
   "metadata": {},
   "outputs": [],
   "source": [
    "for i in range(0, 28000): \n",
    "    index_array = np.append(index_array, i+1) \n",
    "    result_array = np.append(result_array, clf.predict([u_scaled[i]]))"
   ]
  },
  {
   "cell_type": "code",
   "execution_count": 9,
   "metadata": {},
   "outputs": [],
   "source": [
    "index_array = index_array.astype(np.int32)\n",
    "result_array = result_array.astype(np.int32)"
   ]
  },
  {
   "cell_type": "code",
   "execution_count": 10,
   "metadata": {},
   "outputs": [],
   "source": [
    "ImageId = ['ImageId']\n",
    "Label = ['Label']"
   ]
  },
  {
   "cell_type": "code",
   "execution_count": 11,
   "metadata": {},
   "outputs": [],
   "source": [
    "s1 = pd.DataFrame(data=index_array, columns= ImageId)\n",
    "s2 = pd.DataFrame(data=result_array, columns= Label)"
   ]
  },
  {
   "cell_type": "code",
   "execution_count": 13,
   "metadata": {},
   "outputs": [
    {
     "name": "stdout",
     "output_type": "stream",
     "text": [
      "       ImageId  Label\n",
      "0            1      2\n",
      "1            2      0\n",
      "2            3      9\n",
      "3            4      4\n",
      "4            5      3\n",
      "5            6      7\n",
      "6            7      0\n",
      "7            8      3\n",
      "8            9      0\n",
      "9           10      3\n",
      "10          11      5\n",
      "11          12      7\n",
      "12          13      4\n",
      "13          14      0\n",
      "14          15      4\n",
      "15          16      3\n",
      "16          17      3\n",
      "17          18      1\n",
      "18          19      9\n",
      "19          20      0\n",
      "20          21      9\n",
      "21          22      1\n",
      "22          23      1\n",
      "23          24      5\n",
      "24          25      7\n",
      "25          26      4\n",
      "26          27      2\n",
      "27          28      7\n",
      "28          29      4\n",
      "29          30      7\n",
      "...        ...    ...\n",
      "27970    27971      5\n",
      "27971    27972      0\n",
      "27972    27973      4\n",
      "27973    27974      8\n",
      "27974    27975      0\n",
      "27975    27976      3\n",
      "27976    27977      6\n",
      "27977    27978      0\n",
      "27978    27979      1\n",
      "27979    27980      9\n",
      "27980    27981      3\n",
      "27981    27982      1\n",
      "27982    27983      1\n",
      "27983    27984      0\n",
      "27984    27985      4\n",
      "27985    27986      5\n",
      "27986    27987      2\n",
      "27987    27988      2\n",
      "27988    27989      9\n",
      "27989    27990      6\n",
      "27990    27991      7\n",
      "27991    27992      6\n",
      "27992    27993      1\n",
      "27993    27994      9\n",
      "27994    27995      7\n",
      "27995    27996      9\n",
      "27996    27997      7\n",
      "27997    27998      3\n",
      "27998    27999      9\n",
      "27999    28000      2\n",
      "\n",
      "[28000 rows x 2 columns]\n"
     ]
    }
   ],
   "source": [
    "s1['Label']=s2['Label']\n",
    "\n",
    "s1.to_csv('submit1.csv', index = False)\n",
    "\n",
    "submit1 = pd.read_csv(\"../Hand writing recognition/submit1.csv\")\n",
    "\n",
    "print(submit1)"
   ]
  },
  {
   "cell_type": "code",
   "execution_count": null,
   "metadata": {},
   "outputs": [],
   "source": []
  }
 ],
 "metadata": {
  "kernelspec": {
   "display_name": "Python 3",
   "language": "python",
   "name": "python3"
  },
  "language_info": {
   "codemirror_mode": {
    "name": "ipython",
    "version": 3
   },
   "file_extension": ".py",
   "mimetype": "text/x-python",
   "name": "python",
   "nbconvert_exporter": "python",
   "pygments_lexer": "ipython3",
   "version": "3.8.5"
  }
 },
 "nbformat": 4,
 "nbformat_minor": 2
}
