{
 "cells": [
  {
   "cell_type": "code",
   "execution_count": 1,
   "metadata": {},
   "outputs": [],
   "source": [
    "import pandas as pd\n",
    "import matplotlib.pyplot as plt\n",
    "from collections import Counter"
   ]
  },
  {
   "cell_type": "code",
   "execution_count": 2,
   "metadata": {},
   "outputs": [],
   "source": [
    "df_train = pd.read_csv('./train.csv')\n",
    "df_test = pd.read_csv('./test.csv')"
   ]
  },
  {
   "cell_type": "code",
   "execution_count": 3,
   "metadata": {},
   "outputs": [],
   "source": [
    "df_train_core = df_train[['airline_sentiment', 'text']]\n",
    "df_train_core_without_nan = df_train_core.drop([3338])"
   ]
  },
  {
   "cell_type": "code",
   "execution_count": 4,
   "metadata": {},
   "outputs": [],
   "source": [
    "big_list = []\n",
    "\n",
    "for i in range(len(df_train_core_without_nan)):\n",
    "    each_list = df_train_core_without_nan.text[i].split()\n",
    "    big_list = big_list + each_list\n",
    "\n",
    "word_count = Counter(big_list)\n",
    "word_count_most_common = word_count.most_common()"
   ]
  },
  {
   "cell_type": "code",
   "execution_count": 5,
   "metadata": {},
   "outputs": [],
   "source": [
    "big_list = []\n",
    "\n",
    "for j in range(len(word_count_most_common)):\n",
    "    \n",
    "    total_count = 0 \n",
    "    positive_count = 0 \n",
    "    neutral_count = 0 \n",
    "    negative_count = 0 \n",
    "    word = word_count_most_common[j][0]\n",
    "    row = []\n",
    "    \n",
    "    for i in range(len(df_train_core_without_nan)):\n",
    "        list1 = df_train_core_without_nan.text[i].split()\n",
    "        if word in list1:\n",
    "            total_count = total_count + 1\n",
    "        if word in list1 and df_train_core_without_nan.airline_sentiment[i] == 'positive':\n",
    "            positive_count = positive_count + 1\n",
    "        if word in list1 and df_train_core_without_nan.airline_sentiment[i] == 'neutral':\n",
    "            neutral_count = neutral_count + 1\n",
    "        if word in list1 and df_train_core_without_nan.airline_sentiment[i] == 'negative':\n",
    "            negative_count = negative_count + 1\n",
    "    row.append(word)\n",
    "    row.append(total_count)\n",
    "    row.append(positive_count)\n",
    "    row.append(neutral_count)\n",
    "    row.append(negative_count)\n",
    "    row.append(positive_count/total_count)\n",
    "    row.append(neutral_count/total_count)\n",
    "    row.append(negative_count/total_count)\n",
    "    \n",
    "    big_list.append(row)"
   ]
  },
  {
   "cell_type": "code",
   "execution_count": 6,
   "metadata": {},
   "outputs": [],
   "source": [
    "labels = ['word', 'total_count', 'positive_count', 'neutral_count', 'negative_count', 'pos_prob', 'neu_prob', 'neg_prob']\n",
    "df_train_analyzed = pd.DataFrame.from_records(big_list, columns = labels)"
   ]
  },
  {
   "cell_type": "code",
   "execution_count": 7,
   "metadata": {},
   "outputs": [],
   "source": [
    "def biggest(x, y, z):\n",
    "    \n",
    "    Max = x\n",
    "    status = 'positive'\n",
    "    if y > Max:\n",
    "        Max = y   \n",
    "        status = 'neutral'\n",
    "    if z > Max:\n",
    "        Max = z\n",
    "        status = 'negative'\n",
    "        if y > z:\n",
    "            Max = y\n",
    "            status = 'neutral'\n",
    "    return Max, status"
   ]
  },
  {
   "cell_type": "markdown",
   "metadata": {},
   "source": [
    "Let's use neural network here. "
   ]
  },
  {
   "cell_type": "code",
   "execution_count": null,
   "metadata": {},
   "outputs": [],
   "source": []
  }
 ],
 "metadata": {
  "kernelspec": {
   "display_name": "Python 3",
   "language": "python",
   "name": "python3"
  },
  "language_info": {
   "codemirror_mode": {
    "name": "ipython",
    "version": 3
   },
   "file_extension": ".py",
   "mimetype": "text/x-python",
   "name": "python",
   "nbconvert_exporter": "python",
   "pygments_lexer": "ipython3",
   "version": "3.6.5"
  }
 },
 "nbformat": 4,
 "nbformat_minor": 2
}
