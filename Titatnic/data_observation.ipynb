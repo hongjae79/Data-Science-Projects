{
 "cells": [
  {
   "cell_type": "code",
   "execution_count": 2,
   "metadata": {},
   "outputs": [],
   "source": [
    "import pandas as pd\n",
    "import matplotlib.pyplot as plt\n",
    "import numpy as np\n",
    "\n",
    "%matplotlib inline"
   ]
  },
  {
   "cell_type": "code",
   "execution_count": 3,
   "metadata": {},
   "outputs": [],
   "source": [
    "gender = pd.read_csv('./gender_submission.csv')\n",
    "train = pd.read_csv('./train.csv')\n",
    "test = pd.read_csv('./test.csv')"
   ]
  },
  {
   "cell_type": "code",
   "execution_count": 4,
   "metadata": {},
   "outputs": [],
   "source": [
    "def check_NaN_in_each_columns(data):\n",
    "    column_names = list(data)\n",
    "\n",
    "    for i in range(len(column_names)):\n",
    "        x = data[column_names[i]].isnull().sum()\n",
    "        print(column_names[i], 'has', x, 'NaNs.')"
   ]
  },
  {
   "cell_type": "code",
   "execution_count": 5,
   "metadata": {},
   "outputs": [
    {
     "name": "stdout",
     "output_type": "stream",
     "text": [
      "PassengerId has 0 NaNs.\n",
      "Survived has 0 NaNs.\n",
      "Pclass has 0 NaNs.\n",
      "Name has 0 NaNs.\n",
      "Sex has 0 NaNs.\n",
      "Age has 177 NaNs.\n",
      "SibSp has 0 NaNs.\n",
      "Parch has 0 NaNs.\n",
      "Ticket has 0 NaNs.\n",
      "Fare has 0 NaNs.\n",
      "Cabin has 687 NaNs.\n",
      "Embarked has 2 NaNs.\n"
     ]
    }
   ],
   "source": [
    "check_NaN_in_each_columns(train)"
   ]
  },
  {
   "cell_type": "code",
   "execution_count": 6,
   "metadata": {},
   "outputs": [],
   "source": [
    "def check_unique_features_in_each_column(data):\n",
    "    column_names = list(data)\n",
    "\n",
    "    for i in range(len(column_names)):\n",
    "        print(column_names[i], 'has', len(data[column_names[i]].unique()), 'unique features.')"
   ]
  },
  {
   "cell_type": "code",
   "execution_count": 7,
   "metadata": {},
   "outputs": [
    {
     "name": "stdout",
     "output_type": "stream",
     "text": [
      "PassengerId has 891 unique features.\n",
      "Survived has 2 unique features.\n",
      "Pclass has 3 unique features.\n",
      "Name has 891 unique features.\n",
      "Sex has 2 unique features.\n",
      "Age has 89 unique features.\n",
      "SibSp has 7 unique features.\n",
      "Parch has 7 unique features.\n",
      "Ticket has 681 unique features.\n",
      "Fare has 248 unique features.\n",
      "Cabin has 148 unique features.\n",
      "Embarked has 4 unique features.\n"
     ]
    }
   ],
   "source": [
    "check_unique_features_in_each_column(train)"
   ]
  },
  {
   "cell_type": "code",
   "execution_count": 8,
   "metadata": {},
   "outputs": [
    {
     "data": {
      "text/plain": [
       "array(['male', 'female'], dtype=object)"
      ]
     },
     "execution_count": 8,
     "metadata": {},
     "output_type": "execute_result"
    }
   ],
   "source": [
    "train.Sex.unique()"
   ]
  },
  {
   "cell_type": "code",
   "execution_count": 9,
   "metadata": {},
   "outputs": [
    {
     "data": {
      "text/html": [
       "<div>\n",
       "<style scoped>\n",
       "    .dataframe tbody tr th:only-of-type {\n",
       "        vertical-align: middle;\n",
       "    }\n",
       "\n",
       "    .dataframe tbody tr th {\n",
       "        vertical-align: top;\n",
       "    }\n",
       "\n",
       "    .dataframe thead th {\n",
       "        text-align: right;\n",
       "    }\n",
       "</style>\n",
       "<table border=\"1\" class=\"dataframe\">\n",
       "  <thead>\n",
       "    <tr style=\"text-align: right;\">\n",
       "      <th></th>\n",
       "      <th>PassengerId</th>\n",
       "      <th>Survived</th>\n",
       "      <th>Pclass</th>\n",
       "      <th>Name</th>\n",
       "      <th>Sex</th>\n",
       "      <th>Age</th>\n",
       "      <th>SibSp</th>\n",
       "      <th>Parch</th>\n",
       "      <th>Ticket</th>\n",
       "      <th>Fare</th>\n",
       "      <th>Cabin</th>\n",
       "      <th>Embarked</th>\n",
       "    </tr>\n",
       "  </thead>\n",
       "  <tbody>\n",
       "    <tr>\n",
       "      <th>0</th>\n",
       "      <td>1</td>\n",
       "      <td>0</td>\n",
       "      <td>3</td>\n",
       "      <td>Braund, Mr. Owen Harris</td>\n",
       "      <td>male</td>\n",
       "      <td>22.0</td>\n",
       "      <td>1</td>\n",
       "      <td>0</td>\n",
       "      <td>A/5 21171</td>\n",
       "      <td>7.2500</td>\n",
       "      <td>NaN</td>\n",
       "      <td>S</td>\n",
       "    </tr>\n",
       "    <tr>\n",
       "      <th>1</th>\n",
       "      <td>2</td>\n",
       "      <td>1</td>\n",
       "      <td>1</td>\n",
       "      <td>Cumings, Mrs. John Bradley (Florence Briggs Th...</td>\n",
       "      <td>female</td>\n",
       "      <td>38.0</td>\n",
       "      <td>1</td>\n",
       "      <td>0</td>\n",
       "      <td>PC 17599</td>\n",
       "      <td>71.2833</td>\n",
       "      <td>C85</td>\n",
       "      <td>C</td>\n",
       "    </tr>\n",
       "    <tr>\n",
       "      <th>2</th>\n",
       "      <td>3</td>\n",
       "      <td>1</td>\n",
       "      <td>3</td>\n",
       "      <td>Heikkinen, Miss. Laina</td>\n",
       "      <td>female</td>\n",
       "      <td>26.0</td>\n",
       "      <td>0</td>\n",
       "      <td>0</td>\n",
       "      <td>STON/O2. 3101282</td>\n",
       "      <td>7.9250</td>\n",
       "      <td>NaN</td>\n",
       "      <td>S</td>\n",
       "    </tr>\n",
       "    <tr>\n",
       "      <th>3</th>\n",
       "      <td>4</td>\n",
       "      <td>1</td>\n",
       "      <td>1</td>\n",
       "      <td>Futrelle, Mrs. Jacques Heath (Lily May Peel)</td>\n",
       "      <td>female</td>\n",
       "      <td>35.0</td>\n",
       "      <td>1</td>\n",
       "      <td>0</td>\n",
       "      <td>113803</td>\n",
       "      <td>53.1000</td>\n",
       "      <td>C123</td>\n",
       "      <td>S</td>\n",
       "    </tr>\n",
       "    <tr>\n",
       "      <th>4</th>\n",
       "      <td>5</td>\n",
       "      <td>0</td>\n",
       "      <td>3</td>\n",
       "      <td>Allen, Mr. William Henry</td>\n",
       "      <td>male</td>\n",
       "      <td>35.0</td>\n",
       "      <td>0</td>\n",
       "      <td>0</td>\n",
       "      <td>373450</td>\n",
       "      <td>8.0500</td>\n",
       "      <td>NaN</td>\n",
       "      <td>S</td>\n",
       "    </tr>\n",
       "  </tbody>\n",
       "</table>\n",
       "</div>"
      ],
      "text/plain": [
       "   PassengerId  Survived  Pclass  \\\n",
       "0            1         0       3   \n",
       "1            2         1       1   \n",
       "2            3         1       3   \n",
       "3            4         1       1   \n",
       "4            5         0       3   \n",
       "\n",
       "                                                Name     Sex   Age  SibSp  \\\n",
       "0                            Braund, Mr. Owen Harris    male  22.0      1   \n",
       "1  Cumings, Mrs. John Bradley (Florence Briggs Th...  female  38.0      1   \n",
       "2                             Heikkinen, Miss. Laina  female  26.0      0   \n",
       "3       Futrelle, Mrs. Jacques Heath (Lily May Peel)  female  35.0      1   \n",
       "4                           Allen, Mr. William Henry    male  35.0      0   \n",
       "\n",
       "   Parch            Ticket     Fare Cabin Embarked  \n",
       "0      0         A/5 21171   7.2500   NaN        S  \n",
       "1      0          PC 17599  71.2833   C85        C  \n",
       "2      0  STON/O2. 3101282   7.9250   NaN        S  \n",
       "3      0            113803  53.1000  C123        S  \n",
       "4      0            373450   8.0500   NaN        S  "
      ]
     },
     "execution_count": 9,
     "metadata": {},
     "output_type": "execute_result"
    }
   ],
   "source": [
    "train.head()"
   ]
  },
  {
   "cell_type": "code",
   "execution_count": 10,
   "metadata": {},
   "outputs": [],
   "source": [
    "train_p = train.copy()"
   ]
  },
  {
   "cell_type": "code",
   "execution_count": 33,
   "metadata": {},
   "outputs": [],
   "source": [
    "test_p = test.copy()"
   ]
  },
  {
   "cell_type": "code",
   "execution_count": 35,
   "metadata": {},
   "outputs": [
    {
     "name": "stdout",
     "output_type": "stream",
     "text": [
      "PassengerId has 0 NaNs.\n",
      "Pclass has 0 NaNs.\n",
      "Name has 0 NaNs.\n",
      "Sex has 0 NaNs.\n",
      "Age has 86 NaNs.\n",
      "SibSp has 0 NaNs.\n",
      "Parch has 0 NaNs.\n",
      "Ticket has 0 NaNs.\n",
      "Fare has 1 NaNs.\n",
      "Cabin has 327 NaNs.\n",
      "Embarked has 0 NaNs.\n"
     ]
    }
   ],
   "source": [
    "check_NaN_in_each_columns(test)"
   ]
  },
  {
   "cell_type": "code",
   "execution_count": 11,
   "metadata": {},
   "outputs": [],
   "source": [
    "survived = train[train.Survived == 1]\n",
    "dead = train[train.Survived == 0]"
   ]
  },
  {
   "cell_type": "code",
   "execution_count": 36,
   "metadata": {
    "scrolled": true
   },
   "outputs": [
    {
     "data": {
      "image/png": "[encoded data removed]",
      "text/plain": [
       "<matplotlib.figure.Figure at 0x526bf98>"
      ]
     },
     "metadata": {},
     "output_type": "display_data"
    },
    {
     "name": "stdout",
     "output_type": "stream",
     "text": [
      "survival rate for female is 0.7420382165605095\n",
      "survival rate for male is 0.18890814558058924\n"
     ]
    }
   ],
   "source": [
    "category=['survived','dead']\n",
    "condition=sorted(train.Sex.unique().tolist())\n",
    "\n",
    "pos = np.arange(len(condition))\n",
    "bar_width = 0.25\n",
    "\n",
    "s = []\n",
    "d = []\n",
    "for i in range(len(condition)):\n",
    "    s.append(len(survived[survived.Sex == condition[i]]))\n",
    "    d.append(len(dead[dead.Sex == condition[i]]))\n",
    "\n",
    "plt.bar(pos, s, bar_width,color='blue',edgecolor='black')\n",
    "plt.bar(pos+bar_width, d, bar_width,color='yellow',edgecolor='black')\n",
    "plt.xticks(pos+bar_width/2, condition)\n",
    "plt.xlabel('Sex', fontsize=16)\n",
    "plt.ylabel('Toll', fontsize=16)\n",
    "plt.title('Sex vs Survived',fontsize=18)\n",
    "plt.legend(category,loc=2)\n",
    "plt.show()\n",
    "\n",
    "Sex_p = []\n",
    "\n",
    "for i in range(len(condition)):\n",
    "    x = len(survived[survived.Sex == condition[i]])/len(train[train.Sex == condition[i]])\n",
    "    Sex_p.append(x)\n",
    "    print('survival rate for', condition[i], 'is', x)\n",
    "    \n",
    "for i in range(len(condition)):\n",
    "    train_p = train_p.replace({'Sex': condition[i]}, Sex_p[i])\n",
    "    test_p = test_p.replace({'Sex': condition[i]}, Sex_p[i]) \n",
    "    "
   ]
  },
  {
   "cell_type": "code",
   "execution_count": 38,
   "metadata": {},
   "outputs": [
    {
     "data": {
      "image/png": "[encoded data removed]",
      "text/plain": [
       "<matplotlib.figure.Figure at 0x5286da0>"
      ]
     },
     "metadata": {},
     "output_type": "display_data"
    },
    {
     "name": "stdout",
     "output_type": "stream",
     "text": [
      "survival rate for class 1 is 0.6296296296296297\n",
      "survival rate for class 2 is 0.47282608695652173\n",
      "survival rate for class 3 is 0.24236252545824846\n"
     ]
    }
   ],
   "source": [
    "category = ['survived','dead']\n",
    "condition=sorted(train.Pclass.unique().tolist())\n",
    "\n",
    "pos = np.arange(len(condition))\n",
    "bar_width = 0.25\n",
    "\n",
    "s = []\n",
    "d = []\n",
    "for i in range(len(condition)):\n",
    "    s.append(len(survived[survived.Pclass == condition[i]]))\n",
    "    d.append(len(dead[dead.Pclass == condition[i]]))\n",
    "\n",
    "\n",
    "plt.bar(pos, s, bar_width,color='blue',edgecolor='black')\n",
    "plt.bar(pos+bar_width, d ,bar_width,color='yellow',edgecolor='black')\n",
    "\n",
    "plt.xticks(pos+bar_width/2, condition)\n",
    "plt.xlabel('Pclass', fontsize=16)\n",
    "plt.ylabel('Toll', fontsize=16)\n",
    "plt.title('Pclass vs Survived',fontsize=18)\n",
    "plt.legend(category,loc=2)\n",
    "plt.show()\n",
    "\n",
    "Pclass_p = []\n",
    "\n",
    "for i in range(len(condition)):\n",
    "    x = len(survived[survived.Pclass == condition[i]])/len(train[train.Pclass == condition[i]])\n",
    "    Pclass_p.append(x)\n",
    "    print('survival rate for class', condition[i], 'is', x)\n",
    "    \n",
    "for i in range(len(condition)):\n",
    "    train_p = train_p.replace({'Pclass': condition[i]}, Pclass_p[i])\n",
    "    test_p = test_p.replace({'Pclass': condition[i]}, Pclass_p[i])\n",
    "    "
   ]
  },
  {
   "cell_type": "code",
   "execution_count": 39,
   "metadata": {},
   "outputs": [
    {
     "data": {
      "image/png": "[encoded data removed]",
      "text/plain": [
       "<matplotlib.figure.Figure at 0xb791c18>"
      ]
     },
     "metadata": {},
     "output_type": "display_data"
    },
    {
     "name": "stdout",
     "output_type": "stream",
     "text": [
      "survival rate for SibSp 0 is 0.34539473684210525\n",
      "survival rate for SibSp 1 is 0.5358851674641149\n",
      "survival rate for SibSp 2 is 0.4642857142857143\n",
      "survival rate for SibSp 3 is 0.25\n",
      "survival rate for SibSp 4 is 0.16666666666666666\n",
      "survival rate for SibSp 5 is 0.0\n",
      "survival rate for SibSp 8 is 0.0\n"
     ]
    }
   ],
   "source": [
    "category=['survived','dead']\n",
    "condition=sorted(train.SibSp.unique().tolist())\n",
    "\n",
    "pos = np.arange(len(condition))\n",
    "bar_width = 0.1\n",
    "\n",
    "s = []\n",
    "d = []\n",
    "for i in range(len(condition)):\n",
    "    s.append(len(survived[survived.SibSp == condition[i]]))\n",
    "    d.append(len(dead[dead.SibSp == condition[i]]))\n",
    "\n",
    "plt.bar(pos, s, bar_width,color='blue',edgecolor='black')\n",
    "plt.bar(pos+bar_width,d,bar_width,color='yellow',edgecolor='black')\n",
    "\n",
    "plt.xticks(pos+bar_width/2, condition)\n",
    "plt.xlabel('SibSp', fontsize=16)\n",
    "plt.ylabel('Toll', fontsize=16)\n",
    "plt.title('SibSp vs Survived',fontsize=18)\n",
    "plt.legend(category,loc=2)\n",
    "plt.show()\n",
    "\n",
    "SibSp_p =[]\n",
    "\n",
    "for i in range(len(condition)):\n",
    "    x = len(survived[survived.SibSp == condition[i]])/len(train[train.SibSp == condition[i]])\n",
    "    SibSp_p.append(x)\n",
    "    print('survival rate for SibSp', condition[i], 'is', x)\n",
    "    \n",
    "for i in range(len(condition)):\n",
    "    train_p = train_p.replace({'SibSp': condition[i]}, SibSp_p[i]) \n",
    "    test_p = test_p.replace({'SibSp': condition[i]}, SibSp_p[i]) \n"
   ]
  },
  {
   "cell_type": "code",
   "execution_count": 40,
   "metadata": {},
   "outputs": [
    {
     "data": {
      "image/png": "[encoded data removed]",
      "text/plain": [
       "<matplotlib.figure.Figure at 0xb6a95f8>"
      ]
     },
     "metadata": {},
     "output_type": "display_data"
    },
    {
     "name": "stdout",
     "output_type": "stream",
     "text": [
      "survival rate for Parch 0 is 0.34365781710914456\n",
      "survival rate for Parch 1 is 0.5508474576271186\n",
      "survival rate for Parch 2 is 0.5\n",
      "survival rate for Parch 3 is 0.6\n",
      "survival rate for Parch 4 is 0.0\n",
      "survival rate for Parch 5 is 0.2\n",
      "survival rate for Parch 6 is 0.0\n"
     ]
    }
   ],
   "source": [
    "category=['survived','dead']\n",
    "condition=sorted(train.Parch.unique().tolist())\n",
    "\n",
    "pos = np.arange(len(condition))\n",
    "bar_width = 0.25\n",
    "\n",
    "s = []\n",
    "d = []\n",
    "for i in range(len(condition)):\n",
    "    s.append(len(survived[survived.Parch == condition[i]]))\n",
    "    d.append(len(dead[dead.Parch == condition[i]]))\n",
    "\n",
    "plt.bar(pos, s, bar_width,color='blue',edgecolor='black')\n",
    "plt.bar(pos+bar_width, d, bar_width,color='yellow',edgecolor='black')\n",
    "plt.xticks(pos+bar_width/2, condition)\n",
    "plt.xlabel('Parch', fontsize=16)\n",
    "plt.ylabel('Toll', fontsize=16)\n",
    "plt.title('Parch vs Survived',fontsize=18)\n",
    "plt.legend(category,loc=2)\n",
    "plt.show()\n",
    "\n",
    "Parch_p = []\n",
    "\n",
    "for i in range(len(condition)):\n",
    "    x = len(survived[survived.Parch == condition[i]])/len(train[train.Parch == condition[i]])\n",
    "    Parch_p.append(x)\n",
    "    print('survival rate for Parch', condition[i], 'is', x)\n",
    "    \n",
    "for i in range(len(condition)):\n",
    "    train_p = train_p.replace({'Parch': condition[i]}, Parch_p[i]) \n",
    "    test_p = test_p.replace({'Parch': condition[i]}, Parch_p[i]) "
   ]
  },
  {
   "cell_type": "code",
   "execution_count": 41,
   "metadata": {},
   "outputs": [
    {
     "data": {
      "image/png": "[encoded data removed]",
      "text/plain": [
       "<matplotlib.figure.Figure at 0x8fa8cf8>"
      ]
     },
     "metadata": {},
     "output_type": "display_data"
    },
    {
     "name": "stdout",
     "output_type": "stream",
     "text": [
      "survival rate for Embarked at S is 0.33695652173913043\n",
      "survival rate for Embarked at C is 0.5535714285714286\n",
      "survival rate for Embarked at Q is 0.38961038961038963\n"
     ]
    }
   ],
   "source": [
    "category=['survived','dead']\n",
    "condition= train.Embarked.unique()\n",
    "\n",
    "pos = np.arange(len(condition))\n",
    "bar_width = 0.25\n",
    "\n",
    "s = []\n",
    "d = []\n",
    "for i in range(len(condition)):\n",
    "    s.append(len(survived[survived.Embarked == condition[i]]))\n",
    "    d.append(len(dead[dead.Embarked == condition[i]]))\n",
    "\n",
    "plt.bar(pos, s, bar_width,color='blue',edgecolor='black')\n",
    "plt.bar(pos+bar_width, d, bar_width,color='yellow',edgecolor='black')\n",
    "plt.xticks(pos+bar_width/2, condition)\n",
    "plt.xlabel('Embarked', fontsize=16)\n",
    "plt.ylabel('Toll', fontsize=16)\n",
    "plt.title('Embarked vs Survived',fontsize=18)\n",
    "plt.legend(category,loc=2)\n",
    "plt.show()\n",
    "\n",
    "Embarked_p = []\n",
    "\n",
    "for i in range(len(condition)-1):\n",
    "    x = len(survived[survived.Embarked == condition[i]])/len(train[train.Embarked == condition[i]])\n",
    "    Embarked_p.append(x)\n",
    "    print('survival rate for Embarked at', condition[i], 'is', x)\n",
    "    \n",
    "for i in range(len(condition)-1):\n",
    "    train_p = train_p.replace({'Embarked': condition[i]}, Embarked_p[i])\n",
    "    test_p = test_p.replace({'Embarked': condition[i]}, Embarked_p[i])\n",
    "\n",
    "train_p['Embarked'].fillna(0.5, inplace=True)\n",
    "test_p['Embarked'].fillna(0.5, inplace=True)"
   ]
  },
  {
   "cell_type": "code",
   "execution_count": 17,
   "metadata": {},
   "outputs": [
    {
     "data": {
      "text/plain": [
       "array([ True,  True,  True, False])"
      ]
     },
     "execution_count": 17,
     "metadata": {},
     "output_type": "execute_result"
    }
   ],
   "source": [
    "pd.notna(condition)"
   ]
  },
  {
   "cell_type": "code",
   "execution_count": 18,
   "metadata": {},
   "outputs": [
    {
     "data": {
      "text/plain": [
       "(array([336, 179, 144,  57,  15,  38,  17,  31,  17,   4,   4,  11,   0,\n",
       "          7,   2,   7,   2,   0,   0,   0,   0,   4,   5,   0,   2,   0,\n",
       "          6,   0,   0,   0,   0,   0,   0,   0,   0,   0,   0,   0,   0,\n",
       "          0,   0,   0,   0,   0,   0,   0,   0,   0,   0,   0,   3],\n",
       "       dtype=int64),\n",
       " array([  0.        ,  10.04567059,  20.09134118,  30.13701176,\n",
       "         40.18268235,  50.22835294,  60.27402353,  70.31969412,\n",
       "         80.36536471,  90.41103529, 100.45670588, 110.50237647,\n",
       "        120.54804706, 130.59371765, 140.63938824, 150.68505882,\n",
       "        160.73072941, 170.7764    , 180.82207059, 190.86774118,\n",
       "        200.91341176, 210.95908235, 221.00475294, 231.05042353,\n",
       "        241.09609412, 251.14176471, 261.18743529, 271.23310588,\n",
       "        281.27877647, 291.32444706, 301.37011765, 311.41578824,\n",
       "        321.46145882, 331.50712941, 341.5528    , 351.59847059,\n",
       "        361.64414118, 371.68981176, 381.73548235, 391.78115294,\n",
       "        401.82682353, 411.87249412, 421.91816471, 431.96383529,\n",
       "        442.00950588, 452.05517647, 462.10084706, 472.14651765,\n",
       "        482.19218824, 492.23785882, 502.28352941, 512.3292    ]))"
      ]
     },
     "execution_count": 18,
     "metadata": {},
     "output_type": "execute_result"
    }
   ],
   "source": [
    "np.histogram(train['Fare'], bins = 51)"
   ]
  },
  {
   "cell_type": "code",
   "execution_count": 43,
   "metadata": {},
   "outputs": [
    {
     "data": {
      "image/png": "[encoded data removed]",
      "text/plain": [
       "<matplotlib.figure.Figure at 0x91ca710>"
      ]
     },
     "metadata": {},
     "output_type": "display_data"
    },
    {
     "name": "stdout",
     "output_type": "stream",
     "text": [
      "survival rate for fare range 0.0 to 10.045670588235295 is 0.19940476190476192\n",
      "survival rate for fare range 10.045670588235295 to 20.09134117647059 is 0.4245810055865922\n",
      "survival rate for fare range 20.09134117647059 to 30.137011764705882 is 0.4444444444444444\n",
      "survival rate for fare range 30.137011764705882 to 40.18268235294118 is 0.38596491228070173\n",
      "survival rate for fare range 40.18268235294118 to 50.228352941176475 is 0.26666666666666666\n",
      "survival rate for fare range 50.228352941176475 to 60.274023529411764 is 0.7105263157894737\n",
      "survival rate for fare range 60.274023529411764 to 70.31969411764706 is 0.35294117647058826\n",
      "survival rate for fare range 70.31969411764706 to 80.36536470588236 is 0.6129032258064516\n",
      "survival rate for fare range 80.36536470588236 to 90.41103529411765 is 0.8235294117647058\n",
      "survival rate for fare range 90.41103529411765 to 100.45670588235295 is 1.0\n",
      "survival rate for fare range 100.45670588235295 to 110.50237647058825 is 0.5\n",
      "survival rate for fare range 110.50237647058825 to 120.54804705882353 is 0.8181818181818182\n",
      "survival rate for fare range 130.59371764705884 to 140.63938823529412 is 0.8571428571428571\n",
      "survival rate for fare range 140.63938823529412 to 150.68505882352943 is 1.0\n",
      "survival rate for fare range 150.68505882352943 to 160.7307294117647 is 0.5714285714285714\n",
      "survival rate for fare range 160.7307294117647 to 170.7764 is 1.0\n",
      "survival rate for fare range 210.95908235294118 to 221.0047529411765 is 0.75\n",
      "survival rate for fare range 221.0047529411765 to 231.05042352941177 is 0.6\n",
      "survival rate for fare range 241.09609411764706 to 251.14176470588237 is 0.5\n",
      "survival rate for fare range 261.1874352941177 to 271.23310588235296 is 0.6666666666666666\n",
      "survival rate for fare range 502.28352941176473 to 512.3292 is 1.0\n"
     ]
    },
    {
     "name": "stderr",
     "output_type": "stream",
     "text": [
      "C:\\Users\\Jason\\Anaconda3\\lib\\site-packages\\ipykernel_launcher.py:20: RuntimeWarning: invalid value encountered in longlong_scalars\n"
     ]
    }
   ],
   "source": [
    "category=['survived','dead']\n",
    "s = np.histogram(survived['Fare'], bins = 51)\n",
    "condition=s[1]\n",
    "d = np.histogram(dead['Fare'], range=(0, 512.3292), bins = 51)\n",
    "\n",
    "pos = np.arange(len(s[0]))\n",
    "\n",
    "plt.bar(pos, s[0], bar_width,color='blue',edgecolor='black')\n",
    "plt.bar(pos+bar_width, d[0], bar_width,color='yellow',edgecolor='black')\n",
    "plt.xticks(pos+bar_width/2, condition)\n",
    "plt.xlabel('Fare', fontsize=16)\n",
    "plt.ylabel('Toll', fontsize=16)\n",
    "plt.title('Fare vs Survived',fontsize=18)\n",
    "plt.legend(category,loc=2)\n",
    "plt.show()\n",
    "\n",
    "Fare_p = []\n",
    "\n",
    "for i in range(len(condition)-1):\n",
    "    x = np.histogram(survived['Fare'], bins = 51)[0][i]/np.histogram(train['Fare'], bins = 51)[0][i]\n",
    "    if pd.notna(x) == True:\n",
    "        print('survival rate for fare range', condition[i], 'to', condition[i+1], 'is', x)\n",
    "        Fare_p.append(x)\n",
    "    else:\n",
    "        Fare_p.append(0.5)\n",
    "        \n",
    "x = train.Fare.as_matrix()\n",
    "y = np.histogram(train['Fare'], bins = 51)\n",
    "bins = y[1]\n",
    "inds = np.digitize(x, bins, right = False)\n",
    "inds[inds == 52] = 51\n",
    "train_p.Fare = inds\n",
    "\n",
    "z = test.Fare.as_matrix()\n",
    "inds_z = np.digitize(z, bins, right = False)\n",
    "inds_z[inds_z == 52] = 51\n",
    "test_p.Fare = inds_z \n",
    "        \n",
    "for i in range(len(Fare_p)):\n",
    "    train_p = train_p.replace({'Fare': i + 1 }, Fare_p[i])\n",
    "    test_p = test_p.replace({'Fare': i + 1 }, Fare_p[i])"
   ]
  },
  {
   "cell_type": "code",
   "execution_count": 44,
   "metadata": {},
   "outputs": [
    {
     "data": {
      "text/html": [
       "<div>\n",
       "<style scoped>\n",
       "    .dataframe tbody tr th:only-of-type {\n",
       "        vertical-align: middle;\n",
       "    }\n",
       "\n",
       "    .dataframe tbody tr th {\n",
       "        vertical-align: top;\n",
       "    }\n",
       "\n",
       "    .dataframe thead th {\n",
       "        text-align: right;\n",
       "    }\n",
       "</style>\n",
       "<table border=\"1\" class=\"dataframe\">\n",
       "  <thead>\n",
       "    <tr style=\"text-align: right;\">\n",
       "      <th></th>\n",
       "      <th>PassengerId</th>\n",
       "      <th>Survived</th>\n",
       "      <th>Pclass</th>\n",
       "      <th>Name</th>\n",
       "      <th>Sex</th>\n",
       "      <th>Age</th>\n",
       "      <th>SibSp</th>\n",
       "      <th>Parch</th>\n",
       "      <th>Ticket</th>\n",
       "      <th>Fare</th>\n",
       "      <th>Cabin</th>\n",
       "      <th>Embarked</th>\n",
       "    </tr>\n",
       "  </thead>\n",
       "  <tbody>\n",
       "    <tr>\n",
       "      <th>630</th>\n",
       "      <td>631</td>\n",
       "      <td>1</td>\n",
       "      <td>1</td>\n",
       "      <td>Barkworth, Mr. Algernon Henry Wilson</td>\n",
       "      <td>male</td>\n",
       "      <td>80.0</td>\n",
       "      <td>0</td>\n",
       "      <td>0</td>\n",
       "      <td>27042</td>\n",
       "      <td>30.0</td>\n",
       "      <td>A23</td>\n",
       "      <td>S</td>\n",
       "    </tr>\n",
       "  </tbody>\n",
       "</table>\n",
       "</div>"
      ],
      "text/plain": [
       "     PassengerId  Survived  Pclass                                  Name  \\\n",
       "630          631         1       1  Barkworth, Mr. Algernon Henry Wilson   \n",
       "\n",
       "      Sex   Age  SibSp  Parch Ticket  Fare Cabin Embarked  \n",
       "630  male  80.0      0      0  27042  30.0   A23        S  "
      ]
     },
     "execution_count": 44,
     "metadata": {},
     "output_type": "execute_result"
    }
   ],
   "source": [
    "train[train.Age == 80]"
   ]
  },
  {
   "cell_type": "code",
   "execution_count": 45,
   "metadata": {},
   "outputs": [
    {
     "data": {
      "text/html": [
       "<div>\n",
       "<style scoped>\n",
       "    .dataframe tbody tr th:only-of-type {\n",
       "        vertical-align: middle;\n",
       "    }\n",
       "\n",
       "    .dataframe tbody tr th {\n",
       "        vertical-align: top;\n",
       "    }\n",
       "\n",
       "    .dataframe thead th {\n",
       "        text-align: right;\n",
       "    }\n",
       "</style>\n",
       "<table border=\"1\" class=\"dataframe\">\n",
       "  <thead>\n",
       "    <tr style=\"text-align: right;\">\n",
       "      <th></th>\n",
       "      <th>PassengerId</th>\n",
       "      <th>Pclass</th>\n",
       "      <th>Name</th>\n",
       "      <th>Sex</th>\n",
       "      <th>Age</th>\n",
       "      <th>SibSp</th>\n",
       "      <th>Parch</th>\n",
       "      <th>Ticket</th>\n",
       "      <th>Fare</th>\n",
       "      <th>Cabin</th>\n",
       "      <th>Embarked</th>\n",
       "    </tr>\n",
       "  </thead>\n",
       "  <tbody>\n",
       "  </tbody>\n",
       "</table>\n",
       "</div>"
      ],
      "text/plain": [
       "Empty DataFrame\n",
       "Columns: [PassengerId, Pclass, Name, Sex, Age, SibSp, Parch, Ticket, Fare, Cabin, Embarked]\n",
       "Index: []"
      ]
     },
     "execution_count": 45,
     "metadata": {},
     "output_type": "execute_result"
    }
   ],
   "source": [
    "test[test.Age == 80]"
   ]
  },
  {
   "cell_type": "code",
   "execution_count": 46,
   "metadata": {},
   "outputs": [
    {
     "name": "stderr",
     "output_type": "stream",
     "text": [
      "C:\\Users\\Jason\\Anaconda3\\lib\\site-packages\\numpy\\lib\\function_base.py:780: RuntimeWarning: invalid value encountered in greater_equal\n",
      "  keep = (tmp_a >= first_edge)\n",
      "C:\\Users\\Jason\\Anaconda3\\lib\\site-packages\\numpy\\lib\\function_base.py:781: RuntimeWarning: invalid value encountered in less_equal\n",
      "  keep &= (tmp_a <= last_edge)\n"
     ]
    },
    {
     "data": {
      "image/png": "[encoded data removed]",
      "text/plain": [
       "<matplotlib.figure.Figure at 0x52713c8>"
      ]
     },
     "metadata": {},
     "output_type": "display_data"
    },
    {
     "name": "stdout",
     "output_type": "stream",
     "text": [
      "survival rate for Age range 0.0 to 10.0 is 0.6129032258064516\n",
      "survival rate for Age range 10.0 to 20.0 is 0.4019607843137255\n",
      "survival rate for Age range 20.0 to 30.0 is 0.35\n",
      "survival rate for Age range 30.0 to 40.0 is 0.437125748502994\n",
      "survival rate for Age range 40.0 to 50.0 is 0.38202247191011235\n",
      "survival rate for Age range 50.0 to 60.0 is 0.4166666666666667\n",
      "survival rate for Age range 60.0 to 70.0 is 0.3157894736842105\n",
      "survival rate for Age range 70.0 to 80.0 is 0.14285714285714285\n"
     ]
    }
   ],
   "source": [
    "category=['survived','dead']\n",
    "\n",
    "\n",
    "s = np.histogram(survived['Age'], range= (0,80),  bins = 8)\n",
    "condition=s[1]\n",
    "d = np.histogram(dead['Age'], range=(0, 80), bins = 8)\n",
    "\n",
    "pos = np.arange(len(s[0]))\n",
    "\n",
    "plt.bar(pos, s[0], bar_width,color='blue',edgecolor='black')\n",
    "plt.bar(pos+bar_width, d[0], bar_width,color='yellow',edgecolor='black')\n",
    "plt.xticks(pos+bar_width/2, condition + 5)\n",
    "plt.xlabel('Age', fontsize=16)\n",
    "plt.ylabel('Toll', fontsize=16)\n",
    "plt.title('Age vs Survived',fontsize=18)\n",
    "plt.legend(category,loc=2)\n",
    "plt.show()\n",
    "\n",
    "Age_p = []\n",
    "\n",
    "for i in range(len(condition)-1):\n",
    "    x = np.histogram(survived['Age'],range= (0,80), bins = 8)[0][i]/np.histogram(train['Age'],range= (0,80), bins = 8)[0][i]\n",
    "    print('survival rate for Age range', condition[i], 'to', condition[i+1], 'is', x)\n",
    "    Age_p.append(x)\n",
    "    \n",
    "x = train.Age.as_matrix()\n",
    "y = np.histogram(train['Age'], range = (0,80), bins = 8)\n",
    "bins = y[1]\n",
    "inds = np.digitize(x, bins, right = False)\n",
    "np.put(inds, 630, 8)\n",
    "train_p.Age = inds\n",
    "\n",
    "z = test.Age.as_matrix()\n",
    "inds_z = np.digitize(z, bins, right = False)\n",
    "test_p.Age = inds_z\n",
    "    \n",
    "for i in range(0,9):\n",
    "    if i < 8:\n",
    "        train_p = train_p.replace({'Age': i + 1 }, Age_p[i]) \n",
    "        test_p = test_p.replace({'Age': i + 1 }, Age_p[i]) \n",
    "    else:\n",
    "        train_p = train_p.replace({'Age': i + 1 }, 0.5)\n",
    "        test_p = test_p.replace({'Age': i + 1 }, 0.5)\n",
    "        "
   ]
  },
  {
   "cell_type": "code",
   "execution_count": 47,
   "metadata": {},
   "outputs": [],
   "source": [
    "X = train_p[['Pclass', 'Sex', 'Age', 'SibSp', 'Parch', 'Fare', 'Embarked']].as_matrix()\n",
    "y = train_p['Survived'].as_matrix()\n",
    "\n",
    "Z = test_p[['Pclass', 'Sex', 'Age', 'SibSp', 'Parch', 'Fare', 'Embarked']].as_matrix()\n",
    "\n",
    "data = X.copy()\n",
    "target = y.copy()\n",
    "\n",
    "data_test = Z.copy()"
   ]
  },
  {
   "cell_type": "code",
   "execution_count": 22,
   "metadata": {},
   "outputs": [],
   "source": [
    "from sklearn.model_selection import train_test_split\n",
    "\n",
    "X_train, X_test, y_train, y_test = train_test_split( data, target, test_size=0.2, random_state=42)"
   ]
  },
  {
   "cell_type": "code",
   "execution_count": 23,
   "metadata": {},
   "outputs": [
    {
     "name": "stdout",
     "output_type": "stream",
     "text": [
      "Number of mislabeled points out of a total 179 points : 45\n",
      "Accuracy is  0.7486033519553073\n"
     ]
    }
   ],
   "source": [
    "from sklearn import datasets\n",
    "from sklearn.naive_bayes import GaussianNB\n",
    "\n",
    "clf = GaussianNB()\n",
    "y_pred = clf.fit(X_train, y_train).predict(X_test)\n",
    "\n",
    "print(\"Number of mislabeled points out of a total %d points : %d\" % (X_test.shape[0],(y_test != y_pred).sum()))\n",
    "print(\"Accuracy is \",  (y_test == y_pred).sum() / X_test.shape[0] )"
   ]
  },
  {
   "cell_type": "code",
   "execution_count": 24,
   "metadata": {},
   "outputs": [
    {
     "name": "stdout",
     "output_type": "stream",
     "text": [
      "Number of mislabeled points out of a total 179 points : 39\n",
      "Accuracy is  0.7821229050279329\n"
     ]
    }
   ],
   "source": [
    "from sklearn.linear_model import LogisticRegression\n",
    "\n",
    "clf = LogisticRegression()\n",
    "y_pred = clf.fit(X_train, y_train).predict(X_test)\n",
    "\n",
    "print(\"Number of mislabeled points out of a total %d points : %d\" % (X_test.shape[0],(y_test != y_pred).sum()))\n",
    "print(\"Accuracy is \",  (y_test == y_pred).sum() / X_test.shape[0] )"
   ]
  },
  {
   "cell_type": "code",
   "execution_count": 25,
   "metadata": {},
   "outputs": [
    {
     "name": "stdout",
     "output_type": "stream",
     "text": [
      "Number of mislabeled points out of a total 179 points : 53\n",
      "Accuracy is  0.7039106145251397\n"
     ]
    }
   ],
   "source": [
    "from sklearn.neighbors import KNeighborsClassifier\n",
    "\n",
    "clf = KNeighborsClassifier(n_neighbors=1)\n",
    "y_pred = clf.fit(X_train, y_train).predict(X_test)\n",
    "\n",
    "print(\"Number of mislabeled points out of a total %d points : %d\" % (X_test.shape[0],(y_test != y_pred).sum()))\n",
    "print(\"Accuracy is \",  (y_test == y_pred).sum() / X_test.shape[0] )"
   ]
  },
  {
   "cell_type": "code",
   "execution_count": 26,
   "metadata": {},
   "outputs": [
    {
     "name": "stdout",
     "output_type": "stream",
     "text": [
      "Number of mislabeled points out of a total 179 points : 39\n",
      "Accuracy is  0.7821229050279329\n"
     ]
    }
   ],
   "source": [
    "from sklearn import svm\n",
    "\n",
    "clf = svm.SVC()\n",
    "y_pred = clf.fit(X_train, y_train).predict(X_test)\n",
    "\n",
    "print(\"Number of mislabeled points out of a total %d points : %d\" % (X_test.shape[0],(y_test != y_pred).sum()))\n",
    "print(\"Accuracy is \",  (y_test == y_pred).sum() / X_test.shape[0] )"
   ]
  },
  {
   "cell_type": "code",
   "execution_count": 27,
   "metadata": {},
   "outputs": [
    {
     "name": "stdout",
     "output_type": "stream",
     "text": [
      "Number of mislabeled points out of a total 179 points : 29\n",
      "Accuracy is  0.8379888268156425\n"
     ]
    }
   ],
   "source": [
    "from sklearn import tree\n",
    "\n",
    "clf = tree.DecisionTreeClassifier()\n",
    "y_pred = clf.fit(X_train, y_train).predict(X_test)\n",
    "\n",
    "print(\"Number of mislabeled points out of a total %d points : %d\" % (X_test.shape[0],(y_test != y_pred).sum()))\n",
    "print(\"Accuracy is \",  (y_test == y_pred).sum() / X_test.shape[0] )"
   ]
  },
  {
   "cell_type": "code",
   "execution_count": 32,
   "metadata": {},
   "outputs": [
    {
     "name": "stdout",
     "output_type": "stream",
     "text": [
      "Number of mislabeled points out of a total 179 points : 27\n",
      "Accuracy is  0.8491620111731844\n"
     ]
    }
   ],
   "source": [
    "from sklearn.ensemble import RandomForestClassifier\n",
    "\n",
    "clf = RandomForestClassifier()\n",
    "y_pred = clf.fit(X_train, y_train).predict(X_test)\n",
    "\n",
    "print(\"Number of mislabeled points out of a total %d points : %d\" % (X_test.shape[0],(y_test != y_pred).sum()))\n",
    "print(\"Accuracy is \",  (y_test == y_pred).sum() / X_test.shape[0] )"
   ]
  },
  {
   "cell_type": "code",
   "execution_count": 29,
   "metadata": {},
   "outputs": [
    {
     "data": {
      "text/plain": [
       "0"
      ]
     },
     "execution_count": 29,
     "metadata": {},
     "output_type": "execute_result"
    }
   ],
   "source": [
    "clf.fit(X_train, y_train).predict(X_test)[0]"
   ]
  },
  {
   "cell_type": "code",
   "execution_count": 30,
   "metadata": {},
   "outputs": [
    {
     "name": "stdout",
     "output_type": "stream",
     "text": [
      "Number of mislabeled points out of a total 179 points : 37\n",
      "Accuracy is  0.7932960893854749\n"
     ]
    }
   ],
   "source": [
    "from sklearn.neural_network import MLPClassifier\n",
    "\n",
    "clf = MLPClassifier(solver='lbfgs', alpha=1e-5, hidden_layer_sizes=(5,2), random_state=1)\n",
    "\n",
    "clf.fit(X_train, y_train)\n",
    "\n",
    "y_pred = clf.predict(X_test)\n",
    "\n",
    "print(\"Number of mislabeled points out of a total %d points : %d\" % (X_test.shape[0],(y_test != y_pred).sum()))\n",
    "print(\"Accuracy is \",  (y_test == y_pred).sum() / X_test.shape[0] )"
   ]
  },
  {
   "cell_type": "markdown",
   "metadata": {},
   "source": [
    "Test Outputs"
   ]
  },
  {
   "cell_type": "code",
   "execution_count": 61,
   "metadata": {},
   "outputs": [],
   "source": [
    "from sklearn.ensemble import RandomForestClassifier\n",
    "\n",
    "clf = RandomForestClassifier()\n",
    "y_pred = clf.fit(data, target).predict(data_test)\n",
    "\n",
    "array = []\n",
    "\n",
    "for i in range(len(test)):\n",
    "    row = []\n",
    "    \n",
    "    row.append(test.PassengerId[i])\n",
    "    row.append(y_pred[i])\n",
    "    \n",
    "    array.append(row)    \n",
    "    \n",
    "labels = ['PassengerId', 'Survived']\n",
    "\n",
    "df_submission = pd.DataFrame(array, columns = labels)\n",
    "\n",
    "df_submission.to_csv('output.csv', encoding='utf-8', index=False)"
   ]
  },
  {
   "cell_type": "code",
   "execution_count": 62,
   "metadata": {},
   "outputs": [],
   "source": [
    "from sklearn.neural_network import MLPClassifier\n",
    "\n",
    "clf = MLPClassifier(solver='lbfgs', alpha=1e-5, hidden_layer_sizes=(5,2), random_state=1)\n",
    "y_pred = clf.fit(data, target).predict(data_test)\n",
    "\n",
    "array = []\n",
    "\n",
    "for i in range(len(test)):\n",
    "    row = []\n",
    "    \n",
    "    row.append(test.PassengerId[i])\n",
    "    row.append(y_pred[i])\n",
    "    \n",
    "    array.append(row)    \n",
    "    \n",
    "labels = ['PassengerId', 'Survived']\n",
    "\n",
    "df_submission = pd.DataFrame(array, columns = labels)\n",
    "\n",
    "df_submission.to_csv('output.csv', encoding='utf-8', index=False)"
   ]
  },
  {
   "cell_type": "code",
   "execution_count": 63,
   "metadata": {},
   "outputs": [],
   "source": [
    "from sklearn import tree\n",
    "\n",
    "clf = tree.DecisionTreeClassifier()\n",
    "\n",
    "y_pred = clf.fit(data, target).predict(data_test)\n",
    "\n",
    "array = []\n",
    "\n",
    "for i in range(len(test)):\n",
    "    row = []\n",
    "    \n",
    "    row.append(test.PassengerId[i])\n",
    "    row.append(y_pred[i])\n",
    "    \n",
    "    array.append(row)    \n",
    "    \n",
    "labels = ['PassengerId', 'Survived']\n",
    "\n",
    "df_submission = pd.DataFrame(array, columns = labels)\n",
    "\n",
    "df_submission.to_csv('output.csv', encoding='utf-8', index=False)"
   ]
  },
  {
   "cell_type": "code",
   "execution_count": 64,
   "metadata": {},
   "outputs": [],
   "source": [
    "from sklearn import svm\n",
    "\n",
    "clf = svm.SVC()\n",
    "\n",
    "y_pred = clf.fit(data, target).predict(data_test)\n",
    "\n",
    "array = []\n",
    "\n",
    "for i in range(len(test)):\n",
    "    row = []\n",
    "    \n",
    "    row.append(test.PassengerId[i])\n",
    "    row.append(y_pred[i])\n",
    "    \n",
    "    array.append(row)    \n",
    "    \n",
    "labels = ['PassengerId', 'Survived']\n",
    "\n",
    "df_submission = pd.DataFrame(array, columns = labels)\n",
    "\n",
    "df_submission.to_csv('output.csv', encoding='utf-8', index=False)"
   ]
  },
  {
   "cell_type": "code",
   "execution_count": 65,
   "metadata": {},
   "outputs": [],
   "source": [
    "from sklearn.neighbors import KNeighborsClassifier\n",
    "\n",
    "clf = KNeighborsClassifier(n_neighbors=1)\n",
    "\n",
    "y_pred = clf.fit(data, target).predict(data_test)\n",
    "\n",
    "array = []\n",
    "\n",
    "for i in range(len(test)):\n",
    "    row = []\n",
    "    \n",
    "    row.append(test.PassengerId[i])\n",
    "    row.append(y_pred[i])\n",
    "    \n",
    "    array.append(row)    \n",
    "    \n",
    "labels = ['PassengerId', 'Survived']\n",
    "\n",
    "df_submission = pd.DataFrame(array, columns = labels)\n",
    "\n",
    "df_submission.to_csv('output.csv', encoding='utf-8', index=False)"
   ]
  },
  {
   "cell_type": "code",
   "execution_count": 66,
   "metadata": {},
   "outputs": [],
   "source": [
    "from sklearn.linear_model import LogisticRegression\n",
    "\n",
    "clf = LogisticRegression()\n",
    "\n",
    "y_pred = clf.fit(data, target).predict(data_test)\n",
    "\n",
    "array = []\n",
    "\n",
    "for i in range(len(test)):\n",
    "    row = []\n",
    "    \n",
    "    row.append(test.PassengerId[i])\n",
    "    row.append(y_pred[i])\n",
    "    \n",
    "    array.append(row)    \n",
    "    \n",
    "labels = ['PassengerId', 'Survived']\n",
    "\n",
    "df_submission = pd.DataFrame(array, columns = labels)\n",
    "\n",
    "df_submission.to_csv('output.csv', encoding='utf-8', index=False)"
   ]
  },
  {
   "cell_type": "code",
   "execution_count": 67,
   "metadata": {},
   "outputs": [],
   "source": [
    "from sklearn.naive_bayes import GaussianNB\n",
    "\n",
    "clf = GaussianNB()\n",
    "\n",
    "y_pred = clf.fit(data, target).predict(data_test)\n",
    "\n",
    "array = []\n",
    "\n",
    "for i in range(len(test)):\n",
    "    row = []\n",
    "    \n",
    "    row.append(test.PassengerId[i])\n",
    "    row.append(y_pred[i])\n",
    "    \n",
    "    array.append(row)    \n",
    "    \n",
    "labels = ['PassengerId', 'Survived']\n",
    "\n",
    "df_submission = pd.DataFrame(array, columns = labels)\n",
    "\n",
    "df_submission.to_csv('output.csv', encoding='utf-8', index=False)"
   ]
  },
  {
   "cell_type": "code",
   "execution_count": null,
   "metadata": {},
   "outputs": [],
   "source": []
  }
 ],
 "metadata": {
  "kernelspec": {
   "display_name": "Python 3",
   "language": "python",
   "name": "python3"
  },
  "language_info": {
   "codemirror_mode": {
    "name": "ipython",
    "version": 3
   },
   "file_extension": ".py",
   "mimetype": "text/x-python",
   "name": "python",
   "nbconvert_exporter": "python",
   "pygments_lexer": "ipython3",
   "version": "3.7.3"
  }
 },
 "nbformat": 4,
 "nbformat_minor": 2
}
