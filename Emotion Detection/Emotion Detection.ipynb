{
 "cells": [
  {
   "cell_type": "code",
   "execution_count": 1,
   "id": "anonymous-gasoline",
   "metadata": {},
   "outputs": [],
   "source": [
    "import pandas as pd\n",
    "import numpy as np\n",
    "import matplotlib.pyplot as plt\n",
    "import random"
   ]
  },
  {
   "cell_type": "code",
   "execution_count": 2,
   "id": "minute-orleans",
   "metadata": {},
   "outputs": [],
   "source": [
    "df = pd.read_csv('./fer2013.csv')"
   ]
  },
  {
   "cell_type": "code",
   "execution_count": 3,
   "id": "resistant-violation",
   "metadata": {},
   "outputs": [
    {
     "data": {
      "text/html": [
       "<div>\n",
       "<style scoped>\n",
       "    .dataframe tbody tr th:only-of-type {\n",
       "        vertical-align: middle;\n",
       "    }\n",
       "\n",
       "    .dataframe tbody tr th {\n",
       "        vertical-align: top;\n",
       "    }\n",
       "\n",
       "    .dataframe thead th {\n",
       "        text-align: right;\n",
       "    }\n",
       "</style>\n",
       "<table border=\"1\" class=\"dataframe\">\n",
       "  <thead>\n",
       "    <tr style=\"text-align: right;\">\n",
       "      <th></th>\n",
       "      <th>emotion</th>\n",
       "      <th>pixels</th>\n",
       "      <th>Usage</th>\n",
       "    </tr>\n",
       "  </thead>\n",
       "  <tbody>\n",
       "    <tr>\n",
       "      <th>0</th>\n",
       "      <td>0</td>\n",
       "      <td>70 80 82 72 58 58 60 63 54 58 60 48 89 115 121...</td>\n",
       "      <td>Training</td>\n",
       "    </tr>\n",
       "    <tr>\n",
       "      <th>1</th>\n",
       "      <td>0</td>\n",
       "      <td>151 150 147 155 148 133 111 140 170 174 182 15...</td>\n",
       "      <td>Training</td>\n",
       "    </tr>\n",
       "    <tr>\n",
       "      <th>2</th>\n",
       "      <td>2</td>\n",
       "      <td>231 212 156 164 174 138 161 173 182 200 106 38...</td>\n",
       "      <td>Training</td>\n",
       "    </tr>\n",
       "    <tr>\n",
       "      <th>3</th>\n",
       "      <td>4</td>\n",
       "      <td>24 32 36 30 32 23 19 20 30 41 21 22 32 34 21 1...</td>\n",
       "      <td>Training</td>\n",
       "    </tr>\n",
       "    <tr>\n",
       "      <th>4</th>\n",
       "      <td>6</td>\n",
       "      <td>4 0 0 0 0 0 0 0 0 0 0 0 3 15 23 28 48 50 58 84...</td>\n",
       "      <td>Training</td>\n",
       "    </tr>\n",
       "    <tr>\n",
       "      <th>...</th>\n",
       "      <td>...</td>\n",
       "      <td>...</td>\n",
       "      <td>...</td>\n",
       "    </tr>\n",
       "    <tr>\n",
       "      <th>35882</th>\n",
       "      <td>6</td>\n",
       "      <td>50 36 17 22 23 29 33 39 34 37 37 37 39 43 48 5...</td>\n",
       "      <td>PrivateTest</td>\n",
       "    </tr>\n",
       "    <tr>\n",
       "      <th>35883</th>\n",
       "      <td>3</td>\n",
       "      <td>178 174 172 173 181 188 191 194 196 199 200 20...</td>\n",
       "      <td>PrivateTest</td>\n",
       "    </tr>\n",
       "    <tr>\n",
       "      <th>35884</th>\n",
       "      <td>0</td>\n",
       "      <td>17 17 16 23 28 22 19 17 25 26 20 24 31 19 27 9...</td>\n",
       "      <td>PrivateTest</td>\n",
       "    </tr>\n",
       "    <tr>\n",
       "      <th>35885</th>\n",
       "      <td>3</td>\n",
       "      <td>30 28 28 29 31 30 42 68 79 81 77 67 67 71 63 6...</td>\n",
       "      <td>PrivateTest</td>\n",
       "    </tr>\n",
       "    <tr>\n",
       "      <th>35886</th>\n",
       "      <td>2</td>\n",
       "      <td>19 13 14 12 13 16 21 33 50 57 71 84 97 108 122...</td>\n",
       "      <td>PrivateTest</td>\n",
       "    </tr>\n",
       "  </tbody>\n",
       "</table>\n",
       "<p>35887 rows × 3 columns</p>\n",
       "</div>"
      ],
      "text/plain": [
       "       emotion                                             pixels        Usage\n",
       "0            0  70 80 82 72 58 58 60 63 54 58 60 48 89 115 121...     Training\n",
       "1            0  151 150 147 155 148 133 111 140 170 174 182 15...     Training\n",
       "2            2  231 212 156 164 174 138 161 173 182 200 106 38...     Training\n",
       "3            4  24 32 36 30 32 23 19 20 30 41 21 22 32 34 21 1...     Training\n",
       "4            6  4 0 0 0 0 0 0 0 0 0 0 0 3 15 23 28 48 50 58 84...     Training\n",
       "...        ...                                                ...          ...\n",
       "35882        6  50 36 17 22 23 29 33 39 34 37 37 37 39 43 48 5...  PrivateTest\n",
       "35883        3  178 174 172 173 181 188 191 194 196 199 200 20...  PrivateTest\n",
       "35884        0  17 17 16 23 28 22 19 17 25 26 20 24 31 19 27 9...  PrivateTest\n",
       "35885        3  30 28 28 29 31 30 42 68 79 81 77 67 67 71 63 6...  PrivateTest\n",
       "35886        2  19 13 14 12 13 16 21 33 50 57 71 84 97 108 122...  PrivateTest\n",
       "\n",
       "[35887 rows x 3 columns]"
      ]
     },
     "execution_count": 3,
     "metadata": {},
     "output_type": "execute_result"
    }
   ],
   "source": [
    "df"
   ]
  },
  {
   "cell_type": "code",
   "execution_count": 4,
   "id": "tough-sierra",
   "metadata": {},
   "outputs": [],
   "source": [
    "df_training = df[df.Usage == 'Training']\n",
    "df_public_testing = df[df.Usage == 'PublicTest']\n",
    "df_private_testing = df[df.Usage == 'PrivateTest']"
   ]
  },
  {
   "cell_type": "code",
   "execution_count": 5,
   "id": "wound-functionality",
   "metadata": {},
   "outputs": [],
   "source": [
    "X = []\n",
    "\n",
    "for i in range(len(df)):\n",
    "    l = df.pixels[i]\n",
    "    ls = l.split()\n",
    "\n",
    "    for i in range(len(ls)):\n",
    "        ls[i] = float(ls[i])\n",
    "    x = np.reshape(ls, (48, 48))\n",
    "    X.append(x)"
   ]
  },
  {
   "cell_type": "code",
   "execution_count": 6,
   "id": "sporting-magic",
   "metadata": {},
   "outputs": [],
   "source": [
    "X = np.asarray(X)"
   ]
  },
  {
   "cell_type": "code",
   "execution_count": 7,
   "id": "advisory-fantasy",
   "metadata": {},
   "outputs": [
    {
     "data": {
      "text/plain": [
       "(35887, 48, 48)"
      ]
     },
     "execution_count": 7,
     "metadata": {},
     "output_type": "execute_result"
    }
   ],
   "source": [
    "X.shape"
   ]
  },
  {
   "cell_type": "code",
   "execution_count": 8,
   "id": "interracial-yahoo",
   "metadata": {},
   "outputs": [],
   "source": [
    "Xtrain = X[ : df_training.shape[0]]\n",
    "Xpublic_test = X[df_training.shape[0]:df_training.shape[0] + df_public_testing.shape[0]]\n",
    "Xprivate_test = X[df_training.shape[0] + df_public_testing.shape[0]: ]"
   ]
  },
  {
   "cell_type": "code",
   "execution_count": 9,
   "id": "bibliographic-makeup",
   "metadata": {},
   "outputs": [],
   "source": [
    "Y = df.emotion.values"
   ]
  },
  {
   "cell_type": "code",
   "execution_count": 10,
   "id": "respected-strand",
   "metadata": {},
   "outputs": [],
   "source": [
    "Ytrain = Y[ : df_training.shape[0]] \n",
    "Ypublic_test = Y[df_training.shape[0]:df_training.shape[0] + df_public_testing.shape[0]] \n",
    "Yprivate_test = Y[df_training.shape[0] + df_public_testing.shape[0]: ]"
   ]
  },
  {
   "cell_type": "code",
   "execution_count": 11,
   "id": "physical-fever",
   "metadata": {},
   "outputs": [],
   "source": [
    "Ytrain = Ytrain.astype(int)\n",
    "Ypublic_test = Ypublic_test.astype(int)\n",
    "Yprivate_test = Yprivate_test.astype(int)"
   ]
  },
  {
   "cell_type": "code",
   "execution_count": 12,
   "id": "endless-mentor",
   "metadata": {},
   "outputs": [
    {
     "name": "stdout",
     "output_type": "stream",
     "text": [
      "3589 3589\n"
     ]
    }
   ],
   "source": [
    "print(len(Xpublic_test), len(Ypublic_test))"
   ]
  },
  {
   "cell_type": "code",
   "execution_count": 13,
   "id": "light-chair",
   "metadata": {},
   "outputs": [],
   "source": [
    "label_map = ['Anger', 'Disgust', 'Fear', 'Happy', 'Sad', 'Surprise', 'Neutral']"
   ]
  },
  {
   "cell_type": "code",
   "execution_count": 14,
   "id": "serial-mining",
   "metadata": {},
   "outputs": [],
   "source": [
    "def emotion_indicator(number):\n",
    "    return label_map[number]"
   ]
  },
  {
   "cell_type": "code",
   "execution_count": 15,
   "id": "juvenile-haven",
   "metadata": {},
   "outputs": [
    {
     "data": {
      "text/plain": [
       "28709"
      ]
     },
     "execution_count": 15,
     "metadata": {},
     "output_type": "execute_result"
    }
   ],
   "source": [
    "len(Xtrain)"
   ]
  },
  {
   "cell_type": "code",
   "execution_count": 16,
   "id": "cooperative-holmes",
   "metadata": {},
   "outputs": [
    {
     "data": {
      "image/png": "[encoded data removed]",
      "text/plain": [
       "<Figure size 432x288 with 1 Axes>"
      ]
     },
     "metadata": {
      "needs_background": "light"
     },
     "output_type": "display_data"
    }
   ],
   "source": [
    "k = random.randint(0, len(Xtrain))\n",
    "\n",
    "plt.imshow(Xtrain[k], cmap = 'gray')\n",
    "plt.title(emotion_indicator(Ytrain[k]))\n",
    "plt.show()"
   ]
  },
  {
   "cell_type": "code",
   "execution_count": 21,
   "id": "third-pound",
   "metadata": {},
   "outputs": [
    {
     "data": {
      "text/plain": [
       "(48, 48)"
      ]
     },
     "execution_count": 21,
     "metadata": {},
     "output_type": "execute_result"
    }
   ],
   "source": [
    "Xtrain[k].shape"
   ]
  },
  {
   "cell_type": "code",
   "execution_count": 17,
   "id": "incorporated-hawaiian",
   "metadata": {},
   "outputs": [],
   "source": [
    "from keras.utils import plot_model\n",
    "from keras.models import Model\n",
    "from keras.layers import Input, Dense, Flatten, Dropout, BatchNormalization\n",
    "from keras.layers.convolutional import Conv2D\n",
    "from keras.layers.pooling import MaxPooling2D\n",
    "from keras.optimizers import Adam"
   ]
  },
  {
   "cell_type": "code",
   "execution_count": 18,
   "id": "prepared-hebrew",
   "metadata": {},
   "outputs": [],
   "source": [
    "def create_model():\n",
    "\n",
    "    i = Input(shape=(48,48,1))\n",
    "    x = Conv2D(128, kernel_size=(3,3), activation='relu', padding='same')(i)\n",
    "    x = Conv2D(128, kernel_size=(3,3), activation='relu', padding='same')(x)\n",
    "    x = MaxPooling2D(pool_size=(2, 2), strides=(2,2))(x)\n",
    "    x = Dropout(0.25)(x)\n",
    "    x = BatchNormalization()(x)\n",
    "    x = Conv2D(256, kernel_size=(3,3), activation='relu', padding='same')(x)\n",
    "    x = Conv2D(256, kernel_size=(3,3), activation='relu', padding='same')(x)\n",
    "    x = MaxPooling2D(pool_size=(2, 2), strides=(2,2))(x)\n",
    "    x = Dropout(0.25)(x)\n",
    "    x = BatchNormalization()(x)\n",
    "    x = Conv2D(512, kernel_size=(3,3), activation='relu', padding='same')(x)\n",
    "    x = Conv2D(512, kernel_size=(3,3), activation='relu', padding='same')(x)\n",
    "    x = MaxPooling2D(pool_size=(2, 2), strides=(2,2))(x)\n",
    "    x = Dropout(0.5)(x)\n",
    "    x = BatchNormalization()(x)\n",
    "    x = Flatten()(x)\n",
    "    x = Dense(512, activation='relu')(x)\n",
    "    x = Dropout(0.5)(x)\n",
    "    x = Dense(512, activation='relu')(x)\n",
    "    x = Dropout(0.5)(x)\n",
    "    x = Dense(512, activation='relu')(x)\n",
    "    x = Dropout(0.5)(x)\n",
    "    x = Dense(7, activation='softmax')(x)\n",
    "    model = Model(inputs=i, outputs=x)\n",
    "\n",
    "    opt = Adam(lr=0.001)\n",
    "    model.compile(optimizer=opt, loss='sparse_categorical_crossentropy', metrics = ['accuracy'])\n",
    "    \n",
    "    return model"
   ]
  },
  {
   "cell_type": "code",
   "execution_count": 21,
   "id": "liberal-muslim",
   "metadata": {},
   "outputs": [
    {
     "name": "stdout",
     "output_type": "stream",
     "text": [
      "Epoch 1/30\n",
      "113/113 [==============================] - 1441s 13s/step - loss: 1.9231 - accuracy: 0.2179 - val_loss: 1.8323 - val_accuracy: 0.2527\n",
      "Epoch 2/30\n",
      "113/113 [==============================] - 1460s 13s/step - loss: 1.7843 - accuracy: 0.2601 - val_loss: 1.8293 - val_accuracy: 0.2524\n",
      "Epoch 3/30\n",
      "113/113 [==============================] - 1466s 13s/step - loss: 1.6671 - accuracy: 0.3298 - val_loss: 1.6270 - val_accuracy: 0.3736\n",
      "Epoch 4/30\n",
      "113/113 [==============================] - 1460s 13s/step - loss: 1.5506 - accuracy: 0.3851 - val_loss: 1.6262 - val_accuracy: 0.3828\n",
      "Epoch 5/30\n",
      "113/113 [==============================] - 1455s 13s/step - loss: 1.4453 - accuracy: 0.4367 - val_loss: 1.6086 - val_accuracy: 0.3720\n",
      "Epoch 6/30\n",
      "113/113 [==============================] - 1459s 13s/step - loss: 1.3831 - accuracy: 0.4649 - val_loss: 1.4892 - val_accuracy: 0.4324\n",
      "Epoch 7/30\n",
      "113/113 [==============================] - 1460s 13s/step - loss: 1.3307 - accuracy: 0.4914 - val_loss: 1.2971 - val_accuracy: 0.5116\n",
      "Epoch 8/30\n",
      "113/113 [==============================] - 1458s 13s/step - loss: 1.2888 - accuracy: 0.5104 - val_loss: 1.3684 - val_accuracy: 0.5032\n",
      "Epoch 9/30\n",
      "113/113 [==============================] - 1459s 13s/step - loss: 1.2457 - accuracy: 0.5281 - val_loss: 1.2901 - val_accuracy: 0.5171\n",
      "Epoch 10/30\n",
      "113/113 [==============================] - 1462s 13s/step - loss: 1.1988 - accuracy: 0.5466 - val_loss: 1.2878 - val_accuracy: 0.5210\n",
      "Epoch 11/30\n",
      "113/113 [==============================] - 1455s 13s/step - loss: 1.1716 - accuracy: 0.5574 - val_loss: 1.2410 - val_accuracy: 0.5241\n",
      "Epoch 12/30\n",
      "113/113 [==============================] - 1457s 13s/step - loss: 1.1363 - accuracy: 0.5749 - val_loss: 1.1729 - val_accuracy: 0.5598\n",
      "Epoch 13/30\n",
      "113/113 [==============================] - 1465s 13s/step - loss: 1.1078 - accuracy: 0.5858 - val_loss: 1.1807 - val_accuracy: 0.5581\n",
      "Epoch 14/30\n",
      "113/113 [==============================] - 1451s 13s/step - loss: 1.0842 - accuracy: 0.5935 - val_loss: 1.1918 - val_accuracy: 0.5545\n",
      "Epoch 15/30\n",
      "113/113 [==============================] - 1462s 13s/step - loss: 1.0525 - accuracy: 0.6074 - val_loss: 1.1015 - val_accuracy: 0.5882\n",
      "Epoch 16/30\n",
      "113/113 [==============================] - 1464s 13s/step - loss: 1.0344 - accuracy: 0.6131 - val_loss: 1.0634 - val_accuracy: 0.5960\n",
      "Epoch 17/30\n",
      "113/113 [==============================] - 1467s 13s/step - loss: 0.9998 - accuracy: 0.6291 - val_loss: 1.1003 - val_accuracy: 0.5846\n",
      "Epoch 18/30\n",
      "113/113 [==============================] - 1455s 13s/step - loss: 0.9747 - accuracy: 0.6392 - val_loss: 1.0764 - val_accuracy: 0.6041\n",
      "Epoch 19/30\n",
      "113/113 [==============================] - 1466s 13s/step - loss: 0.9527 - accuracy: 0.6478 - val_loss: 1.0367 - val_accuracy: 0.6180\n",
      "Epoch 20/30\n",
      "113/113 [==============================] - 1461s 13s/step - loss: 0.9108 - accuracy: 0.6633 - val_loss: 1.0891 - val_accuracy: 0.6113\n",
      "Epoch 21/30\n",
      "113/113 [==============================] - 1463s 13s/step - loss: 0.8960 - accuracy: 0.6654 - val_loss: 1.0906 - val_accuracy: 0.5899\n",
      "Epoch 22/30\n",
      "113/113 [==============================] - 1454s 13s/step - loss: 0.8690 - accuracy: 0.6779 - val_loss: 1.0601 - val_accuracy: 0.6049\n",
      "Epoch 23/30\n",
      "113/113 [==============================] - 1467s 13s/step - loss: 0.8382 - accuracy: 0.6927 - val_loss: 1.0277 - val_accuracy: 0.6163\n",
      "Epoch 24/30\n",
      "113/113 [==============================] - 1456s 13s/step - loss: 0.8115 - accuracy: 0.7003 - val_loss: 1.0094 - val_accuracy: 0.6350\n",
      "Epoch 25/30\n",
      "113/113 [==============================] - 1453s 13s/step - loss: 0.7847 - accuracy: 0.7119 - val_loss: 1.0179 - val_accuracy: 0.6378\n",
      "Epoch 26/30\n",
      "113/113 [==============================] - 1459s 13s/step - loss: 0.7568 - accuracy: 0.7263 - val_loss: 1.0197 - val_accuracy: 0.6239\n",
      "Epoch 27/30\n",
      "113/113 [==============================] - 1656s 15s/step - loss: 0.7288 - accuracy: 0.7368 - val_loss: 1.0346 - val_accuracy: 0.6294\n",
      "Epoch 28/30\n",
      "113/113 [==============================] - 1674s 15s/step - loss: 0.7069 - accuracy: 0.7412 - val_loss: 1.0537 - val_accuracy: 0.6422\n",
      "Epoch 29/30\n",
      "113/113 [==============================] - 1639s 15s/step - loss: 0.6809 - accuracy: 0.7520 - val_loss: 1.0017 - val_accuracy: 0.6386\n",
      "Epoch 30/30\n",
      "113/113 [==============================] - 1507s 13s/step - loss: 0.6523 - accuracy: 0.7637 - val_loss: 1.0701 - val_accuracy: 0.6294\n"
     ]
    }
   ],
   "source": [
    "train = model.fit(Xtrain, Ytrain, epochs=30, batch_size = 256, verbose = 1, validation_data = (Xpublic_test, Ypublic_test))"
   ]
  },
  {
   "cell_type": "code",
   "execution_count": 23,
   "id": "according-horror",
   "metadata": {},
   "outputs": [
    {
     "data": {
      "image/png": "[encoded data removed]",
      "text/plain": [
       "<Figure size 1080x1080 with 2 Axes>"
      ]
     },
     "metadata": {
      "needs_background": "light"
     },
     "output_type": "display_data"
    }
   ],
   "source": [
    "acc = train.history['accuracy']\n",
    "val_acc = train.history['val_accuracy']\n",
    "loss = train.history['loss']\n",
    "val_loss = train.history['val_loss']\n",
    "\n",
    "epochs_range = range(30)\n",
    "\n",
    "plt.figure(figsize=(15, 15))\n",
    "plt.subplot(2, 2, 1)\n",
    "plt.plot(epochs_range, acc, label='Training Accuracy')\n",
    "plt.plot(epochs_range, val_acc, label='Validation Accuracy')\n",
    "plt.legend(loc='lower right')\n",
    "plt.title('Training and Validation Accuracy')\n",
    "\n",
    "plt.subplot(2, 2, 2)\n",
    "plt.plot(epochs_range, loss, label='Training Loss')\n",
    "plt.plot(epochs_range, val_loss, label='Validation Loss')\n",
    "plt.legend(loc='upper right')\n",
    "plt.title('Training and Validation Loss')\n",
    "plt.show()"
   ]
  },
  {
   "cell_type": "code",
   "execution_count": 101,
   "id": "affecting-senator",
   "metadata": {},
   "outputs": [
    {
     "name": "stdout",
     "output_type": "stream",
     "text": [
      "0.6458623572025634\n"
     ]
    }
   ],
   "source": [
    "test_prob = model.predict(Xprivate_test)\n",
    "test_pred = np.argmax(test_prob, axis=1)\n",
    "test_accuracy = np.mean(test_pred == Yprivate_test)\n",
    "print(test_accuracy)"
   ]
  },
  {
   "cell_type": "code",
   "execution_count": 29,
   "id": "italian-female",
   "metadata": {},
   "outputs": [],
   "source": [
    "from sklearn.metrics import confusion_matrix"
   ]
  },
  {
   "cell_type": "code",
   "execution_count": 30,
   "id": "overall-rabbit",
   "metadata": {},
   "outputs": [],
   "source": [
    "conf_mat = confusion_matrix(Yprivate_test, test_pred)"
   ]
  },
  {
   "cell_type": "code",
   "execution_count": 31,
   "id": "marked-crystal",
   "metadata": {},
   "outputs": [
    {
     "data": {
      "text/html": [
       "<div>\n",
       "<style scoped>\n",
       "    .dataframe tbody tr th:only-of-type {\n",
       "        vertical-align: middle;\n",
       "    }\n",
       "\n",
       "    .dataframe tbody tr th {\n",
       "        vertical-align: top;\n",
       "    }\n",
       "\n",
       "    .dataframe thead th {\n",
       "        text-align: right;\n",
       "    }\n",
       "</style>\n",
       "<table border=\"1\" class=\"dataframe\">\n",
       "  <thead>\n",
       "    <tr style=\"text-align: right;\">\n",
       "      <th></th>\n",
       "      <th>Anger</th>\n",
       "      <th>Disgust</th>\n",
       "      <th>Fear</th>\n",
       "      <th>Happy</th>\n",
       "      <th>Sad</th>\n",
       "      <th>Surprise</th>\n",
       "      <th>Neutral</th>\n",
       "    </tr>\n",
       "  </thead>\n",
       "  <tbody>\n",
       "    <tr>\n",
       "      <th>Anger</th>\n",
       "      <td>246</td>\n",
       "      <td>4</td>\n",
       "      <td>31</td>\n",
       "      <td>23</td>\n",
       "      <td>100</td>\n",
       "      <td>3</td>\n",
       "      <td>84</td>\n",
       "    </tr>\n",
       "    <tr>\n",
       "      <th>Disgust</th>\n",
       "      <td>10</td>\n",
       "      <td>31</td>\n",
       "      <td>3</td>\n",
       "      <td>4</td>\n",
       "      <td>6</td>\n",
       "      <td>0</td>\n",
       "      <td>1</td>\n",
       "    </tr>\n",
       "    <tr>\n",
       "      <th>Fear</th>\n",
       "      <td>42</td>\n",
       "      <td>3</td>\n",
       "      <td>199</td>\n",
       "      <td>30</td>\n",
       "      <td>143</td>\n",
       "      <td>30</td>\n",
       "      <td>81</td>\n",
       "    </tr>\n",
       "    <tr>\n",
       "      <th>Happy</th>\n",
       "      <td>9</td>\n",
       "      <td>0</td>\n",
       "      <td>20</td>\n",
       "      <td>766</td>\n",
       "      <td>39</td>\n",
       "      <td>8</td>\n",
       "      <td>37</td>\n",
       "    </tr>\n",
       "    <tr>\n",
       "      <th>Sad</th>\n",
       "      <td>30</td>\n",
       "      <td>0</td>\n",
       "      <td>22</td>\n",
       "      <td>38</td>\n",
       "      <td>361</td>\n",
       "      <td>3</td>\n",
       "      <td>140</td>\n",
       "    </tr>\n",
       "    <tr>\n",
       "      <th>Surprise</th>\n",
       "      <td>5</td>\n",
       "      <td>0</td>\n",
       "      <td>70</td>\n",
       "      <td>31</td>\n",
       "      <td>12</td>\n",
       "      <td>275</td>\n",
       "      <td>23</td>\n",
       "    </tr>\n",
       "    <tr>\n",
       "      <th>Neutral</th>\n",
       "      <td>12</td>\n",
       "      <td>0</td>\n",
       "      <td>12</td>\n",
       "      <td>49</td>\n",
       "      <td>108</td>\n",
       "      <td>5</td>\n",
       "      <td>440</td>\n",
       "    </tr>\n",
       "  </tbody>\n",
       "</table>\n",
       "</div>"
      ],
      "text/plain": [
       "          Anger  Disgust  Fear  Happy  Sad  Surprise  Neutral\n",
       "Anger       246        4    31     23  100         3       84\n",
       "Disgust      10       31     3      4    6         0        1\n",
       "Fear         42        3   199     30  143        30       81\n",
       "Happy         9        0    20    766   39         8       37\n",
       "Sad          30        0    22     38  361         3      140\n",
       "Surprise      5        0    70     31   12       275       23\n",
       "Neutral      12        0    12     49  108         5      440"
      ]
     },
     "execution_count": 31,
     "metadata": {},
     "output_type": "execute_result"
    }
   ],
   "source": [
    "pd.DataFrame(conf_mat, columns=label_map, index=label_map)"
   ]
  },
  {
   "cell_type": "code",
   "execution_count": 34,
   "id": "cellular-undergraduate",
   "metadata": {},
   "outputs": [],
   "source": [
    "from mlxtend.plotting import plot_confusion_matrix"
   ]
  },
  {
   "cell_type": "code",
   "execution_count": 37,
   "id": "sweet-headquarters",
   "metadata": {},
   "outputs": [
    {
     "data": {
      "image/png": "[encoded data removed]",
      "text/plain": [
       "<Figure size 576x576 with 1 Axes>"
      ]
     },
     "metadata": {
      "needs_background": "light"
     },
     "output_type": "display_data"
    }
   ],
   "source": [
    "fig, ax = plot_confusion_matrix(conf_mat=conf_mat,\n",
    "                                show_normed=True,\n",
    "                                show_absolute=False,\n",
    "                                class_names=label_map,\n",
    "                                figsize=(8, 8))"
   ]
  },
  {
   "cell_type": "code",
   "execution_count": 25,
   "id": "musical-material",
   "metadata": {},
   "outputs": [
    {
     "data": {
      "text/plain": [
       "(48, 48)"
      ]
     },
     "execution_count": 25,
     "metadata": {},
     "output_type": "execute_result"
    }
   ],
   "source": [
    "Xtrain[k].shape"
   ]
  },
  {
   "cell_type": "code",
   "execution_count": 22,
   "id": "editorial-family",
   "metadata": {},
   "outputs": [
    {
     "data": {
      "image/png": "[encoded data removed]",
      "text/plain": [
       "<Figure size 432x288 with 1 Axes>"
      ]
     },
     "metadata": {
      "needs_background": "light"
     },
     "output_type": "display_data"
    },
    {
     "name": "stdout",
     "output_type": "stream",
     "text": [
      "And we predict\n",
      "Anger: 4.08 %\n",
      "Disgust: 0.25 %\n",
      "Fear: 5.11 %\n",
      "Happy: 29.75 %\n",
      "Sad: 51.14 %\n",
      "Surprise: 0.12 %\n",
      "Neutral: 9.55 %\n"
     ]
    }
   ],
   "source": [
    "k = random.randint(0, len(Xprivate_test))\n",
    "\n",
    "plt.imshow(Xtrain[k], cmap = 'gray')\n",
    "plt.title(\"It is labeled as: \" + emotion_indicator(Yprivate_test[k]))\n",
    "plt.show()\n",
    "    \n",
    "z = [Xprivate_test[k]]\n",
    "z = np.asarray(z)\n",
    "test_prob = model.predict(z)\n",
    "\n",
    "\n",
    "print(\"And we predict\")\n",
    "for j in range(len(label_map)):\n",
    "    print(label_map[j] + \": %4.2f %%\" % (test_prob[0][j]*100))\n"
   ]
  },
  {
   "cell_type": "code",
   "execution_count": 100,
   "id": "alternative-table",
   "metadata": {},
   "outputs": [],
   "source": [
    "model.save_weights('emotion_weights')"
   ]
  },
  {
   "cell_type": "code",
   "execution_count": 102,
   "id": "cosmetic-denmark",
   "metadata": {},
   "outputs": [
    {
     "name": "stdout",
     "output_type": "stream",
     "text": [
      "0.1733073279465032\n"
     ]
    }
   ],
   "source": [
    "model = create_model()\n",
    "test_prob = model.predict(Xprivate_test)\n",
    "test_pred = np.argmax(test_prob, axis=1)\n",
    "test_accuracy = np.mean(test_pred == Yprivate_test)\n",
    "print(test_accuracy)"
   ]
  },
  {
   "cell_type": "code",
   "execution_count": 20,
   "id": "purple-feature",
   "metadata": {},
   "outputs": [
    {
     "name": "stdout",
     "output_type": "stream",
     "text": [
      "0.6458623572025634\n"
     ]
    }
   ],
   "source": [
    "model.load_weights('emotion_weights')\n",
    "test_prob = model.predict(Xprivate_test)\n",
    "test_pred = np.argmax(test_prob, axis=1)\n",
    "test_accuracy = np.mean(test_pred == Yprivate_test)\n",
    "print(test_accuracy)"
   ]
  },
  {
   "cell_type": "code",
   "execution_count": null,
   "id": "affecting-transaction",
   "metadata": {},
   "outputs": [],
   "source": []
  }
 ],
 "metadata": {
  "kernelspec": {
   "display_name": "Python 3",
   "language": "python",
   "name": "python3"
  },
  "language_info": {
   "codemirror_mode": {
    "name": "ipython",
    "version": 3
   },
   "file_extension": ".py",
   "mimetype": "text/x-python",
   "name": "python",
   "nbconvert_exporter": "python",
   "pygments_lexer": "ipython3",
   "version": "3.8.5"
  }
 },
 "nbformat": 4,
 "nbformat_minor": 5
}
